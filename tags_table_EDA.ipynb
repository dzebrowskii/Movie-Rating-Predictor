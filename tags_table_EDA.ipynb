{
 "cells": [
  {
   "cell_type": "code",
   "id": "initial_id",
   "metadata": {
    "collapsed": true,
    "ExecuteTime": {
     "end_time": "2024-09-22T17:02:58.252344Z",
     "start_time": "2024-09-22T17:02:58.249055Z"
    }
   },
   "source": [
    "import pandas as pd\n",
    "import numpy as np\n",
    "import matplotlib.pyplot as plt\n",
    "import seaborn as sns"
   ],
   "outputs": [],
   "execution_count": 1
  },
  {
   "metadata": {},
   "cell_type": "markdown",
   "source": "# Tags table analysis",
   "id": "bb00ffe34e51f2ee"
  },
  {
   "metadata": {
    "ExecuteTime": {
     "end_time": "2024-09-22T17:02:58.272029Z",
     "start_time": "2024-09-22T17:02:58.253351Z"
    }
   },
   "cell_type": "code",
   "source": "tags_df = pd.read_csv('tags.csv')",
   "id": "a8faaf2e9912556b",
   "outputs": [],
   "execution_count": 2
  },
  {
   "metadata": {
    "ExecuteTime": {
     "end_time": "2024-09-22T17:02:58.286238Z",
     "start_time": "2024-09-22T17:02:58.273034Z"
    }
   },
   "cell_type": "code",
   "source": "tags_df.head()",
   "id": "94c57e3af21782a0",
   "outputs": [
    {
     "data": {
      "text/plain": [
       "   userId  movieId              tag   timestamp\n",
       "0       2    60756            funny  1445714994\n",
       "1       2    60756  Highly quotable  1445714996\n",
       "2       2    60756     will ferrell  1445714992\n",
       "3       2    89774     Boxing story  1445715207\n",
       "4       2    89774              MMA  1445715200"
      ],
      "text/html": [
       "<div>\n",
       "<style scoped>\n",
       "    .dataframe tbody tr th:only-of-type {\n",
       "        vertical-align: middle;\n",
       "    }\n",
       "\n",
       "    .dataframe tbody tr th {\n",
       "        vertical-align: top;\n",
       "    }\n",
       "\n",
       "    .dataframe thead th {\n",
       "        text-align: right;\n",
       "    }\n",
       "</style>\n",
       "<table border=\"1\" class=\"dataframe\">\n",
       "  <thead>\n",
       "    <tr style=\"text-align: right;\">\n",
       "      <th></th>\n",
       "      <th>userId</th>\n",
       "      <th>movieId</th>\n",
       "      <th>tag</th>\n",
       "      <th>timestamp</th>\n",
       "    </tr>\n",
       "  </thead>\n",
       "  <tbody>\n",
       "    <tr>\n",
       "      <th>0</th>\n",
       "      <td>2</td>\n",
       "      <td>60756</td>\n",
       "      <td>funny</td>\n",
       "      <td>1445714994</td>\n",
       "    </tr>\n",
       "    <tr>\n",
       "      <th>1</th>\n",
       "      <td>2</td>\n",
       "      <td>60756</td>\n",
       "      <td>Highly quotable</td>\n",
       "      <td>1445714996</td>\n",
       "    </tr>\n",
       "    <tr>\n",
       "      <th>2</th>\n",
       "      <td>2</td>\n",
       "      <td>60756</td>\n",
       "      <td>will ferrell</td>\n",
       "      <td>1445714992</td>\n",
       "    </tr>\n",
       "    <tr>\n",
       "      <th>3</th>\n",
       "      <td>2</td>\n",
       "      <td>89774</td>\n",
       "      <td>Boxing story</td>\n",
       "      <td>1445715207</td>\n",
       "    </tr>\n",
       "    <tr>\n",
       "      <th>4</th>\n",
       "      <td>2</td>\n",
       "      <td>89774</td>\n",
       "      <td>MMA</td>\n",
       "      <td>1445715200</td>\n",
       "    </tr>\n",
       "  </tbody>\n",
       "</table>\n",
       "</div>"
      ]
     },
     "execution_count": 3,
     "metadata": {},
     "output_type": "execute_result"
    }
   ],
   "execution_count": 3
  },
  {
   "metadata": {
    "ExecuteTime": {
     "end_time": "2024-09-22T17:02:58.295349Z",
     "start_time": "2024-09-22T17:02:58.287246Z"
    }
   },
   "cell_type": "code",
   "source": "tags_df.head().T",
   "id": "e73959b73b510987",
   "outputs": [
    {
     "data": {
      "text/plain": [
       "                    0                1             2             3           4\n",
       "userId              2                2             2             2           2\n",
       "movieId         60756            60756         60756         89774       89774\n",
       "tag             funny  Highly quotable  will ferrell  Boxing story         MMA\n",
       "timestamp  1445714994       1445714996    1445714992    1445715207  1445715200"
      ],
      "text/html": [
       "<div>\n",
       "<style scoped>\n",
       "    .dataframe tbody tr th:only-of-type {\n",
       "        vertical-align: middle;\n",
       "    }\n",
       "\n",
       "    .dataframe tbody tr th {\n",
       "        vertical-align: top;\n",
       "    }\n",
       "\n",
       "    .dataframe thead th {\n",
       "        text-align: right;\n",
       "    }\n",
       "</style>\n",
       "<table border=\"1\" class=\"dataframe\">\n",
       "  <thead>\n",
       "    <tr style=\"text-align: right;\">\n",
       "      <th></th>\n",
       "      <th>0</th>\n",
       "      <th>1</th>\n",
       "      <th>2</th>\n",
       "      <th>3</th>\n",
       "      <th>4</th>\n",
       "    </tr>\n",
       "  </thead>\n",
       "  <tbody>\n",
       "    <tr>\n",
       "      <th>userId</th>\n",
       "      <td>2</td>\n",
       "      <td>2</td>\n",
       "      <td>2</td>\n",
       "      <td>2</td>\n",
       "      <td>2</td>\n",
       "    </tr>\n",
       "    <tr>\n",
       "      <th>movieId</th>\n",
       "      <td>60756</td>\n",
       "      <td>60756</td>\n",
       "      <td>60756</td>\n",
       "      <td>89774</td>\n",
       "      <td>89774</td>\n",
       "    </tr>\n",
       "    <tr>\n",
       "      <th>tag</th>\n",
       "      <td>funny</td>\n",
       "      <td>Highly quotable</td>\n",
       "      <td>will ferrell</td>\n",
       "      <td>Boxing story</td>\n",
       "      <td>MMA</td>\n",
       "    </tr>\n",
       "    <tr>\n",
       "      <th>timestamp</th>\n",
       "      <td>1445714994</td>\n",
       "      <td>1445714996</td>\n",
       "      <td>1445714992</td>\n",
       "      <td>1445715207</td>\n",
       "      <td>1445715200</td>\n",
       "    </tr>\n",
       "  </tbody>\n",
       "</table>\n",
       "</div>"
      ]
     },
     "execution_count": 4,
     "metadata": {},
     "output_type": "execute_result"
    }
   ],
   "execution_count": 4
  },
  {
   "metadata": {
    "ExecuteTime": {
     "end_time": "2024-09-22T17:02:58.302384Z",
     "start_time": "2024-09-22T17:02:58.296356Z"
    }
   },
   "cell_type": "code",
   "source": "tags_df.shape",
   "id": "242238fae003d7aa",
   "outputs": [
    {
     "data": {
      "text/plain": [
       "(3683, 4)"
      ]
     },
     "execution_count": 5,
     "metadata": {},
     "output_type": "execute_result"
    }
   ],
   "execution_count": 5
  },
  {
   "metadata": {
    "ExecuteTime": {
     "end_time": "2024-09-22T17:02:58.311270Z",
     "start_time": "2024-09-22T17:02:58.303391Z"
    }
   },
   "cell_type": "code",
   "source": "tags_df.isnull().sum()",
   "id": "b6676d7c3d3c34fd",
   "outputs": [
    {
     "data": {
      "text/plain": [
       "userId       0\n",
       "movieId      0\n",
       "tag          0\n",
       "timestamp    0\n",
       "dtype: int64"
      ]
     },
     "execution_count": 6,
     "metadata": {},
     "output_type": "execute_result"
    }
   ],
   "execution_count": 6
  },
  {
   "metadata": {
    "ExecuteTime": {
     "end_time": "2024-09-22T17:02:58.322Z",
     "start_time": "2024-09-22T17:02:58.312279Z"
    }
   },
   "cell_type": "code",
   "source": "tags_df.info()",
   "id": "2ed03f3bcbf152ad",
   "outputs": [
    {
     "name": "stdout",
     "output_type": "stream",
     "text": [
      "<class 'pandas.core.frame.DataFrame'>\n",
      "RangeIndex: 3683 entries, 0 to 3682\n",
      "Data columns (total 4 columns):\n",
      " #   Column     Non-Null Count  Dtype \n",
      "---  ------     --------------  ----- \n",
      " 0   userId     3683 non-null   int64 \n",
      " 1   movieId    3683 non-null   int64 \n",
      " 2   tag        3683 non-null   object\n",
      " 3   timestamp  3683 non-null   int64 \n",
      "dtypes: int64(3), object(1)\n",
      "memory usage: 115.2+ KB\n"
     ]
    }
   ],
   "execution_count": 7
  },
  {
   "metadata": {
    "ExecuteTime": {
     "end_time": "2024-09-22T17:02:58.332419Z",
     "start_time": "2024-09-22T17:02:58.325010Z"
    }
   },
   "cell_type": "code",
   "source": "tags_df.nunique()",
   "id": "dbce19bf796da820",
   "outputs": [
    {
     "data": {
      "text/plain": [
       "userId         58\n",
       "movieId      1572\n",
       "tag          1589\n",
       "timestamp    3411\n",
       "dtype: int64"
      ]
     },
     "execution_count": 8,
     "metadata": {},
     "output_type": "execute_result"
    }
   ],
   "execution_count": 8
  },
  {
   "metadata": {
    "ExecuteTime": {
     "end_time": "2024-09-22T17:02:58.340439Z",
     "start_time": "2024-09-22T17:02:58.333428Z"
    }
   },
   "cell_type": "code",
   "source": "tags_df['userId'].value_counts()",
   "id": "80645146d712f870",
   "outputs": [
    {
     "data": {
      "text/plain": [
       "userId\n",
       "474    1507\n",
       "567     432\n",
       "62      370\n",
       "599     323\n",
       "477     280\n",
       "424     273\n",
       "537     100\n",
       "125      48\n",
       "357      45\n",
       "318      41\n",
       "184      35\n",
       "573      31\n",
       "193      20\n",
       "18       16\n",
       "119      14\n",
       "336      10\n",
       "2         9\n",
       "305       8\n",
       "606       7\n",
       "327       7\n",
       "166       6\n",
       "462       5\n",
       "419       5\n",
       "356       5\n",
       "103       5\n",
       "21        4\n",
       "289       4\n",
       "291       4\n",
       "435       4\n",
       "132       4\n",
       "506       3\n",
       "533       3\n",
       "319       3\n",
       "439       3\n",
       "610       3\n",
       "509       3\n",
       "205       3\n",
       "49        3\n",
       "177       3\n",
       "112       3\n",
       "226       3\n",
       "487       3\n",
       "513       3\n",
       "63        2\n",
       "76        2\n",
       "341       2\n",
       "520       2\n",
       "256       2\n",
       "106       2\n",
       "138       2\n",
       "288       1\n",
       "274       1\n",
       "161       1\n",
       "167       1\n",
       "7         1\n",
       "300       1\n",
       "543       1\n",
       "600       1\n",
       "Name: count, dtype: int64"
      ]
     },
     "execution_count": 9,
     "metadata": {},
     "output_type": "execute_result"
    }
   ],
   "execution_count": 9
  },
  {
   "metadata": {
    "ExecuteTime": {
     "end_time": "2024-09-22T17:03:50.940722Z",
     "start_time": "2024-09-22T17:03:50.934163Z"
    }
   },
   "cell_type": "code",
   "source": "tags_df['movieId'].value_counts()",
   "id": "678794aecb7ad863",
   "outputs": [
    {
     "data": {
      "text/plain": [
       "movieId\n",
       "296      181\n",
       "2959      54\n",
       "924       41\n",
       "293       35\n",
       "7361      34\n",
       "        ... \n",
       "540        1\n",
       "707        1\n",
       "836        1\n",
       "1779       1\n",
       "30749      1\n",
       "Name: count, Length: 1572, dtype: int64"
      ]
     },
     "execution_count": 10,
     "metadata": {},
     "output_type": "execute_result"
    }
   ],
   "execution_count": 10
  },
  {
   "metadata": {
    "ExecuteTime": {
     "end_time": "2024-09-22T17:57:04.158373Z",
     "start_time": "2024-09-22T17:57:04.147037Z"
    }
   },
   "cell_type": "code",
   "source": "tags_df['tag'].value_counts()",
   "id": "92db77a340a17d2d",
   "outputs": [
    {
     "data": {
      "text/plain": [
       "tag\n",
       "In Netflix queue      131\n",
       "atmospheric            36\n",
       "thought-provoking      24\n",
       "superhero              24\n",
       "surreal                23\n",
       "                     ... \n",
       "70mm                    1\n",
       "Romans                  1\n",
       "British                 1\n",
       "TERRORISM               1\n",
       "societal criticism      1\n",
       "Name: count, Length: 1589, dtype: int64"
      ]
     },
     "execution_count": 11,
     "metadata": {},
     "output_type": "execute_result"
    }
   ],
   "execution_count": 11
  }
 ],
 "metadata": {
  "kernelspec": {
   "display_name": "Python 3",
   "language": "python",
   "name": "python3"
  },
  "language_info": {
   "codemirror_mode": {
    "name": "ipython",
    "version": 2
   },
   "file_extension": ".py",
   "mimetype": "text/x-python",
   "name": "python",
   "nbconvert_exporter": "python",
   "pygments_lexer": "ipython2",
   "version": "2.7.6"
  }
 },
 "nbformat": 4,
 "nbformat_minor": 5
}
