{
 "cells": [
  {
   "cell_type": "code",
   "id": "initial_id",
   "metadata": {
    "collapsed": true,
    "ExecuteTime": {
     "end_time": "2024-09-22T19:13:53.128889Z",
     "start_time": "2024-09-22T19:13:53.125498Z"
    }
   },
   "source": [
    "import pandas as pd\n",
    "import numpy as np\n",
    "import matplotlib.pyplot as plt\n",
    "import seaborn as sns"
   ],
   "outputs": [],
   "execution_count": 91
  },
  {
   "metadata": {
    "ExecuteTime": {
     "end_time": "2024-09-22T19:13:53.207246Z",
     "start_time": "2024-09-22T19:13:53.172856Z"
    }
   },
   "cell_type": "code",
   "source": "ratings_df = pd.read_csv('ratings.csv')",
   "id": "5ba0e48153ae8f81",
   "outputs": [],
   "execution_count": 92
  },
  {
   "metadata": {},
   "cell_type": "markdown",
   "source": "# Ratings table analysis",
   "id": "47995193c4edd9dd"
  },
  {
   "metadata": {
    "ExecuteTime": {
     "end_time": "2024-09-22T19:13:53.299026Z",
     "start_time": "2024-09-22T19:13:53.290645Z"
    }
   },
   "cell_type": "code",
   "source": "ratings_df.head()",
   "id": "3d944ce5eb77a70",
   "outputs": [
    {
     "data": {
      "text/plain": [
       "   userId  movieId  rating  timestamp\n",
       "0       1        1     4.0  964982703\n",
       "1       1        3     4.0  964981247\n",
       "2       1        6     4.0  964982224\n",
       "3       1       47     5.0  964983815\n",
       "4       1       50     5.0  964982931"
      ],
      "text/html": [
       "<div>\n",
       "<style scoped>\n",
       "    .dataframe tbody tr th:only-of-type {\n",
       "        vertical-align: middle;\n",
       "    }\n",
       "\n",
       "    .dataframe tbody tr th {\n",
       "        vertical-align: top;\n",
       "    }\n",
       "\n",
       "    .dataframe thead th {\n",
       "        text-align: right;\n",
       "    }\n",
       "</style>\n",
       "<table border=\"1\" class=\"dataframe\">\n",
       "  <thead>\n",
       "    <tr style=\"text-align: right;\">\n",
       "      <th></th>\n",
       "      <th>userId</th>\n",
       "      <th>movieId</th>\n",
       "      <th>rating</th>\n",
       "      <th>timestamp</th>\n",
       "    </tr>\n",
       "  </thead>\n",
       "  <tbody>\n",
       "    <tr>\n",
       "      <th>0</th>\n",
       "      <td>1</td>\n",
       "      <td>1</td>\n",
       "      <td>4.0</td>\n",
       "      <td>964982703</td>\n",
       "    </tr>\n",
       "    <tr>\n",
       "      <th>1</th>\n",
       "      <td>1</td>\n",
       "      <td>3</td>\n",
       "      <td>4.0</td>\n",
       "      <td>964981247</td>\n",
       "    </tr>\n",
       "    <tr>\n",
       "      <th>2</th>\n",
       "      <td>1</td>\n",
       "      <td>6</td>\n",
       "      <td>4.0</td>\n",
       "      <td>964982224</td>\n",
       "    </tr>\n",
       "    <tr>\n",
       "      <th>3</th>\n",
       "      <td>1</td>\n",
       "      <td>47</td>\n",
       "      <td>5.0</td>\n",
       "      <td>964983815</td>\n",
       "    </tr>\n",
       "    <tr>\n",
       "      <th>4</th>\n",
       "      <td>1</td>\n",
       "      <td>50</td>\n",
       "      <td>5.0</td>\n",
       "      <td>964982931</td>\n",
       "    </tr>\n",
       "  </tbody>\n",
       "</table>\n",
       "</div>"
      ]
     },
     "execution_count": 93,
     "metadata": {},
     "output_type": "execute_result"
    }
   ],
   "execution_count": 93
  },
  {
   "metadata": {
    "ExecuteTime": {
     "end_time": "2024-09-22T19:13:53.326957Z",
     "start_time": "2024-09-22T19:13:53.318938Z"
    }
   },
   "cell_type": "code",
   "source": "ratings_df.head().T",
   "id": "bfe4a8b5cb0f2726",
   "outputs": [
    {
     "data": {
      "text/plain": [
       "                     0            1            2            3            4\n",
       "userId             1.0          1.0          1.0          1.0          1.0\n",
       "movieId            1.0          3.0          6.0         47.0         50.0\n",
       "rating             4.0          4.0          4.0          5.0          5.0\n",
       "timestamp  964982703.0  964981247.0  964982224.0  964983815.0  964982931.0"
      ],
      "text/html": [
       "<div>\n",
       "<style scoped>\n",
       "    .dataframe tbody tr th:only-of-type {\n",
       "        vertical-align: middle;\n",
       "    }\n",
       "\n",
       "    .dataframe tbody tr th {\n",
       "        vertical-align: top;\n",
       "    }\n",
       "\n",
       "    .dataframe thead th {\n",
       "        text-align: right;\n",
       "    }\n",
       "</style>\n",
       "<table border=\"1\" class=\"dataframe\">\n",
       "  <thead>\n",
       "    <tr style=\"text-align: right;\">\n",
       "      <th></th>\n",
       "      <th>0</th>\n",
       "      <th>1</th>\n",
       "      <th>2</th>\n",
       "      <th>3</th>\n",
       "      <th>4</th>\n",
       "    </tr>\n",
       "  </thead>\n",
       "  <tbody>\n",
       "    <tr>\n",
       "      <th>userId</th>\n",
       "      <td>1.0</td>\n",
       "      <td>1.0</td>\n",
       "      <td>1.0</td>\n",
       "      <td>1.0</td>\n",
       "      <td>1.0</td>\n",
       "    </tr>\n",
       "    <tr>\n",
       "      <th>movieId</th>\n",
       "      <td>1.0</td>\n",
       "      <td>3.0</td>\n",
       "      <td>6.0</td>\n",
       "      <td>47.0</td>\n",
       "      <td>50.0</td>\n",
       "    </tr>\n",
       "    <tr>\n",
       "      <th>rating</th>\n",
       "      <td>4.0</td>\n",
       "      <td>4.0</td>\n",
       "      <td>4.0</td>\n",
       "      <td>5.0</td>\n",
       "      <td>5.0</td>\n",
       "    </tr>\n",
       "    <tr>\n",
       "      <th>timestamp</th>\n",
       "      <td>964982703.0</td>\n",
       "      <td>964981247.0</td>\n",
       "      <td>964982224.0</td>\n",
       "      <td>964983815.0</td>\n",
       "      <td>964982931.0</td>\n",
       "    </tr>\n",
       "  </tbody>\n",
       "</table>\n",
       "</div>"
      ]
     },
     "execution_count": 94,
     "metadata": {},
     "output_type": "execute_result"
    }
   ],
   "execution_count": 94
  },
  {
   "metadata": {
    "ExecuteTime": {
     "end_time": "2024-09-22T19:13:53.360388Z",
     "start_time": "2024-09-22T19:13:53.355851Z"
    }
   },
   "cell_type": "code",
   "source": "ratings_df.shape",
   "id": "7fcf66f3c3cad20f",
   "outputs": [
    {
     "data": {
      "text/plain": [
       "(100836, 4)"
      ]
     },
     "execution_count": 95,
     "metadata": {},
     "output_type": "execute_result"
    }
   ],
   "execution_count": 95
  },
  {
   "metadata": {
    "ExecuteTime": {
     "end_time": "2024-09-22T19:13:53.395242Z",
     "start_time": "2024-09-22T19:13:53.387489Z"
    }
   },
   "cell_type": "code",
   "source": "ratings_df.isnull().sum()",
   "id": "b3df13e3914acd28",
   "outputs": [
    {
     "data": {
      "text/plain": [
       "userId       0\n",
       "movieId      0\n",
       "rating       0\n",
       "timestamp    0\n",
       "dtype: int64"
      ]
     },
     "execution_count": 96,
     "metadata": {},
     "output_type": "execute_result"
    }
   ],
   "execution_count": 96
  },
  {
   "metadata": {
    "ExecuteTime": {
     "end_time": "2024-09-22T19:13:53.516766Z",
     "start_time": "2024-09-22T19:13:53.509014Z"
    }
   },
   "cell_type": "code",
   "source": "ratings_df.info()",
   "id": "5bc8a1d1248c2349",
   "outputs": [
    {
     "name": "stdout",
     "output_type": "stream",
     "text": [
      "<class 'pandas.core.frame.DataFrame'>\n",
      "RangeIndex: 100836 entries, 0 to 100835\n",
      "Data columns (total 4 columns):\n",
      " #   Column     Non-Null Count   Dtype  \n",
      "---  ------     --------------   -----  \n",
      " 0   userId     100836 non-null  int64  \n",
      " 1   movieId    100836 non-null  int64  \n",
      " 2   rating     100836 non-null  float64\n",
      " 3   timestamp  100836 non-null  int64  \n",
      "dtypes: float64(1), int64(3)\n",
      "memory usage: 3.1 MB\n"
     ]
    }
   ],
   "execution_count": 97
  },
  {
   "metadata": {
    "ExecuteTime": {
     "end_time": "2024-09-22T19:13:53.584946Z",
     "start_time": "2024-09-22T19:13:53.579819Z"
    }
   },
   "cell_type": "code",
   "source": "ratings_df.columns",
   "id": "a60cedb68f8d4352",
   "outputs": [
    {
     "data": {
      "text/plain": [
       "Index(['userId', 'movieId', 'rating', 'timestamp'], dtype='object')"
      ]
     },
     "execution_count": 98,
     "metadata": {},
     "output_type": "execute_result"
    }
   ],
   "execution_count": 98
  },
  {
   "metadata": {
    "ExecuteTime": {
     "end_time": "2024-09-22T19:13:53.650279Z",
     "start_time": "2024-09-22T19:13:53.639451Z"
    }
   },
   "cell_type": "code",
   "source": "ratings_df.nunique()",
   "id": "4eeda7d7c1eaedfb",
   "outputs": [
    {
     "data": {
      "text/plain": [
       "userId         610\n",
       "movieId       9724\n",
       "rating          10\n",
       "timestamp    85043\n",
       "dtype: int64"
      ]
     },
     "execution_count": 99,
     "metadata": {},
     "output_type": "execute_result"
    }
   ],
   "execution_count": 99
  },
  {
   "metadata": {
    "ExecuteTime": {
     "end_time": "2024-09-22T19:13:53.720013Z",
     "start_time": "2024-09-22T19:13:53.711860Z"
    }
   },
   "cell_type": "code",
   "source": "ratings_df['rating'].value_counts()",
   "id": "d0188ac81bd59092",
   "outputs": [
    {
     "data": {
      "text/plain": [
       "rating\n",
       "4.0    26818\n",
       "3.0    20047\n",
       "5.0    13211\n",
       "3.5    13136\n",
       "4.5     8551\n",
       "2.0     7551\n",
       "2.5     5550\n",
       "1.0     2811\n",
       "1.5     1791\n",
       "0.5     1370\n",
       "Name: count, dtype: int64"
      ]
     },
     "execution_count": 100,
     "metadata": {},
     "output_type": "execute_result"
    }
   ],
   "execution_count": 100
  },
  {
   "metadata": {
    "ExecuteTime": {
     "end_time": "2024-09-22T19:13:53.782260Z",
     "start_time": "2024-09-22T19:13:53.775927Z"
    }
   },
   "cell_type": "code",
   "source": "ratings_df.rating.mean()",
   "id": "f892faedcfc55331",
   "outputs": [
    {
     "data": {
      "text/plain": [
       "np.float64(3.501556983616962)"
      ]
     },
     "execution_count": 101,
     "metadata": {},
     "output_type": "execute_result"
    }
   ],
   "execution_count": 101
  },
  {
   "metadata": {
    "ExecuteTime": {
     "end_time": "2024-09-22T19:13:53.910472Z",
     "start_time": "2024-09-22T19:13:53.803494Z"
    }
   },
   "cell_type": "code",
   "source": [
    "plt.hist(ratings_df.rating)\n",
    "plt.xlabel('rate')\n",
    "plt.ylabel('count')\n",
    "plt.title('Rate Counts')"
   ],
   "id": "8c56f8b31bf8f3b0",
   "outputs": [
    {
     "data": {
      "text/plain": [
       "Text(0.5, 1.0, 'Rate Counts')"
      ]
     },
     "execution_count": 102,
     "metadata": {},
     "output_type": "execute_result"
    },
    {
     "data": {
      "text/plain": [
       "<Figure size 640x480 with 1 Axes>"
      ],
      "image/png": "[encoded data removed]"
     },
     "metadata": {},
     "output_type": "display_data"
    }
   ],
   "execution_count": 102
  },
  {
   "metadata": {
    "ExecuteTime": {
     "end_time": "2024-09-22T19:13:54.177039Z",
     "start_time": "2024-09-22T19:13:53.911993Z"
    }
   },
   "cell_type": "code",
   "source": "sns.violinplot(ratings_df.rating)",
   "id": "f7f95812bc2797e9",
   "outputs": [
    {
     "data": {
      "text/plain": [
       "<Axes: ylabel='rating'>"
      ]
     },
     "execution_count": 103,
     "metadata": {},
     "output_type": "execute_result"
    },
    {
     "data": {
      "text/plain": [
       "<Figure size 640x480 with 1 Axes>"
      ],
      "image/png": "[encoded data removed]"
     },
     "metadata": {},
     "output_type": "display_data"
    }
   ],
   "execution_count": 103
  },
  {
   "metadata": {
    "ExecuteTime": {
     "end_time": "2024-09-22T19:13:54.184594Z",
     "start_time": "2024-09-22T19:13:54.178085Z"
    }
   },
   "cell_type": "code",
   "source": "ratings_df['userId'].value_counts()",
   "id": "e6c9fff8e67edeb8",
   "outputs": [
    {
     "data": {
      "text/plain": [
       "userId\n",
       "414    2698\n",
       "599    2478\n",
       "474    2108\n",
       "448    1864\n",
       "274    1346\n",
       "       ... \n",
       "442      20\n",
       "278      20\n",
       "147      20\n",
       "320      20\n",
       "53       20\n",
       "Name: count, Length: 610, dtype: int64"
      ]
     },
     "execution_count": 104,
     "metadata": {},
     "output_type": "execute_result"
    }
   ],
   "execution_count": 104
  },
  {
   "metadata": {
    "ExecuteTime": {
     "end_time": "2024-09-22T19:13:54.192802Z",
     "start_time": "2024-09-22T19:13:54.186660Z"
    }
   },
   "cell_type": "code",
   "source": "ratings_df['userId'].value_counts().mean()",
   "id": "28ff09696f69fdf4",
   "outputs": [
    {
     "data": {
      "text/plain": [
       "np.float64(165.30491803278687)"
      ]
     },
     "execution_count": 105,
     "metadata": {},
     "output_type": "execute_result"
    }
   ],
   "execution_count": 105
  },
  {
   "metadata": {
    "ExecuteTime": {
     "end_time": "2024-09-22T19:13:54.202462Z",
     "start_time": "2024-09-22T19:13:54.194321Z"
    }
   },
   "cell_type": "code",
   "source": "ratings_df['movieId'].value_counts()",
   "id": "a8e6eeea7f1b3570",
   "outputs": [
    {
     "data": {
      "text/plain": [
       "movieId\n",
       "356       329\n",
       "318       317\n",
       "296       307\n",
       "593       279\n",
       "2571      278\n",
       "         ... \n",
       "160341      1\n",
       "160527      1\n",
       "160836      1\n",
       "163937      1\n",
       "135534      1\n",
       "Name: count, Length: 9724, dtype: int64"
      ]
     },
     "execution_count": 106,
     "metadata": {},
     "output_type": "execute_result"
    }
   ],
   "execution_count": 106
  },
  {
   "metadata": {
    "ExecuteTime": {
     "end_time": "2024-09-22T19:13:54.215210Z",
     "start_time": "2024-09-22T19:13:54.203497Z"
    }
   },
   "cell_type": "code",
   "source": [
    "ratings_df.groupby('movieId').agg(\n",
    "    rating_counts = ('rating', 'count'),\n",
    "    avg_rating = ('rating', 'mean')\n",
    ")"
   ],
   "id": "be4e6af4c2e9aa85",
   "outputs": [
    {
     "data": {
      "text/plain": [
       "         rating_counts  avg_rating\n",
       "movieId                           \n",
       "1                  215    3.920930\n",
       "2                  110    3.431818\n",
       "3                   52    3.259615\n",
       "4                    7    2.357143\n",
       "5                   49    3.071429\n",
       "...                ...         ...\n",
       "193581               1    4.000000\n",
       "193583               1    3.500000\n",
       "193585               1    3.500000\n",
       "193587               1    3.500000\n",
       "193609               1    4.000000\n",
       "\n",
       "[9724 rows x 2 columns]"
      ],
      "text/html": [
       "<div>\n",
       "<style scoped>\n",
       "    .dataframe tbody tr th:only-of-type {\n",
       "        vertical-align: middle;\n",
       "    }\n",
       "\n",
       "    .dataframe tbody tr th {\n",
       "        vertical-align: top;\n",
       "    }\n",
       "\n",
       "    .dataframe thead th {\n",
       "        text-align: right;\n",
       "    }\n",
       "</style>\n",
       "<table border=\"1\" class=\"dataframe\">\n",
       "  <thead>\n",
       "    <tr style=\"text-align: right;\">\n",
       "      <th></th>\n",
       "      <th>rating_counts</th>\n",
       "      <th>avg_rating</th>\n",
       "    </tr>\n",
       "    <tr>\n",
       "      <th>movieId</th>\n",
       "      <th></th>\n",
       "      <th></th>\n",
       "    </tr>\n",
       "  </thead>\n",
       "  <tbody>\n",
       "    <tr>\n",
       "      <th>1</th>\n",
       "      <td>215</td>\n",
       "      <td>3.920930</td>\n",
       "    </tr>\n",
       "    <tr>\n",
       "      <th>2</th>\n",
       "      <td>110</td>\n",
       "      <td>3.431818</td>\n",
       "    </tr>\n",
       "    <tr>\n",
       "      <th>3</th>\n",
       "      <td>52</td>\n",
       "      <td>3.259615</td>\n",
       "    </tr>\n",
       "    <tr>\n",
       "      <th>4</th>\n",
       "      <td>7</td>\n",
       "      <td>2.357143</td>\n",
       "    </tr>\n",
       "    <tr>\n",
       "      <th>5</th>\n",
       "      <td>49</td>\n",
       "      <td>3.071429</td>\n",
       "    </tr>\n",
       "    <tr>\n",
       "      <th>...</th>\n",
       "      <td>...</td>\n",
       "      <td>...</td>\n",
       "    </tr>\n",
       "    <tr>\n",
       "      <th>193581</th>\n",
       "      <td>1</td>\n",
       "      <td>4.000000</td>\n",
       "    </tr>\n",
       "    <tr>\n",
       "      <th>193583</th>\n",
       "      <td>1</td>\n",
       "      <td>3.500000</td>\n",
       "    </tr>\n",
       "    <tr>\n",
       "      <th>193585</th>\n",
       "      <td>1</td>\n",
       "      <td>3.500000</td>\n",
       "    </tr>\n",
       "    <tr>\n",
       "      <th>193587</th>\n",
       "      <td>1</td>\n",
       "      <td>3.500000</td>\n",
       "    </tr>\n",
       "    <tr>\n",
       "      <th>193609</th>\n",
       "      <td>1</td>\n",
       "      <td>4.000000</td>\n",
       "    </tr>\n",
       "  </tbody>\n",
       "</table>\n",
       "<p>9724 rows × 2 columns</p>\n",
       "</div>"
      ]
     },
     "execution_count": 107,
     "metadata": {},
     "output_type": "execute_result"
    }
   ],
   "execution_count": 107
  },
  {
   "metadata": {
    "ExecuteTime": {
     "end_time": "2024-09-22T19:13:54.230126Z",
     "start_time": "2024-09-22T19:13:54.216219Z"
    }
   },
   "cell_type": "code",
   "source": [
    "ratings_df.groupby('movieId').agg(\n",
    "    rating_counts = ('rating', 'count'),\n",
    "    rating_variance = ('rating', 'var')\n",
    ")"
   ],
   "id": "8d150754d8be0f43",
   "outputs": [
    {
     "data": {
      "text/plain": [
       "         rating_counts  rating_variance\n",
       "movieId                                \n",
       "1                  215         0.696990\n",
       "2                  110         0.777419\n",
       "3                   52         1.112651\n",
       "4                    7         0.726190\n",
       "5                   49         0.822917\n",
       "...                ...              ...\n",
       "193581               1              NaN\n",
       "193583               1              NaN\n",
       "193585               1              NaN\n",
       "193587               1              NaN\n",
       "193609               1              NaN\n",
       "\n",
       "[9724 rows x 2 columns]"
      ],
      "text/html": [
       "<div>\n",
       "<style scoped>\n",
       "    .dataframe tbody tr th:only-of-type {\n",
       "        vertical-align: middle;\n",
       "    }\n",
       "\n",
       "    .dataframe tbody tr th {\n",
       "        vertical-align: top;\n",
       "    }\n",
       "\n",
       "    .dataframe thead th {\n",
       "        text-align: right;\n",
       "    }\n",
       "</style>\n",
       "<table border=\"1\" class=\"dataframe\">\n",
       "  <thead>\n",
       "    <tr style=\"text-align: right;\">\n",
       "      <th></th>\n",
       "      <th>rating_counts</th>\n",
       "      <th>rating_variance</th>\n",
       "    </tr>\n",
       "    <tr>\n",
       "      <th>movieId</th>\n",
       "      <th></th>\n",
       "      <th></th>\n",
       "    </tr>\n",
       "  </thead>\n",
       "  <tbody>\n",
       "    <tr>\n",
       "      <th>1</th>\n",
       "      <td>215</td>\n",
       "      <td>0.696990</td>\n",
       "    </tr>\n",
       "    <tr>\n",
       "      <th>2</th>\n",
       "      <td>110</td>\n",
       "      <td>0.777419</td>\n",
       "    </tr>\n",
       "    <tr>\n",
       "      <th>3</th>\n",
       "      <td>52</td>\n",
       "      <td>1.112651</td>\n",
       "    </tr>\n",
       "    <tr>\n",
       "      <th>4</th>\n",
       "      <td>7</td>\n",
       "      <td>0.726190</td>\n",
       "    </tr>\n",
       "    <tr>\n",
       "      <th>5</th>\n",
       "      <td>49</td>\n",
       "      <td>0.822917</td>\n",
       "    </tr>\n",
       "    <tr>\n",
       "      <th>...</th>\n",
       "      <td>...</td>\n",
       "      <td>...</td>\n",
       "    </tr>\n",
       "    <tr>\n",
       "      <th>193581</th>\n",
       "      <td>1</td>\n",
       "      <td>NaN</td>\n",
       "    </tr>\n",
       "    <tr>\n",
       "      <th>193583</th>\n",
       "      <td>1</td>\n",
       "      <td>NaN</td>\n",
       "    </tr>\n",
       "    <tr>\n",
       "      <th>193585</th>\n",
       "      <td>1</td>\n",
       "      <td>NaN</td>\n",
       "    </tr>\n",
       "    <tr>\n",
       "      <th>193587</th>\n",
       "      <td>1</td>\n",
       "      <td>NaN</td>\n",
       "    </tr>\n",
       "    <tr>\n",
       "      <th>193609</th>\n",
       "      <td>1</td>\n",
       "      <td>NaN</td>\n",
       "    </tr>\n",
       "  </tbody>\n",
       "</table>\n",
       "<p>9724 rows × 2 columns</p>\n",
       "</div>"
      ]
     },
     "execution_count": 108,
     "metadata": {},
     "output_type": "execute_result"
    }
   ],
   "execution_count": 108
  },
  {
   "metadata": {
    "ExecuteTime": {
     "end_time": "2024-09-22T19:13:54.247204Z",
     "start_time": "2024-09-22T19:13:54.232137Z"
    }
   },
   "cell_type": "code",
   "source": "datetime = pd.to_datetime(ratings_df['timestamp'], unit='s').to_frame(name='datetime')",
   "id": "aab6ce633226df2f",
   "outputs": [],
   "execution_count": 109
  },
  {
   "metadata": {
    "ExecuteTime": {
     "end_time": "2024-09-22T19:13:54.254751Z",
     "start_time": "2024-09-22T19:13:54.249214Z"
    }
   },
   "cell_type": "code",
   "source": "ratings_encoded_df = pd.concat([ratings_df, datetime], axis = 1)",
   "id": "dc9d88ca2e241c13",
   "outputs": [],
   "execution_count": 110
  },
  {
   "metadata": {
    "ExecuteTime": {
     "end_time": "2024-09-22T19:13:54.260245Z",
     "start_time": "2024-09-22T19:13:54.255762Z"
    }
   },
   "cell_type": "code",
   "source": "del ratings_encoded_df['timestamp']",
   "id": "eef2e96764a6391",
   "outputs": [],
   "execution_count": 111
  },
  {
   "metadata": {
    "ExecuteTime": {
     "end_time": "2024-09-22T19:13:54.268Z",
     "start_time": "2024-09-22T19:13:54.262346Z"
    }
   },
   "cell_type": "code",
   "source": "ratings_encoded_df.head()",
   "id": "b6b7d685cf85e758",
   "outputs": [
    {
     "data": {
      "text/plain": [
       "   userId  movieId  rating            datetime\n",
       "0       1        1     4.0 2000-07-30 18:45:03\n",
       "1       1        3     4.0 2000-07-30 18:20:47\n",
       "2       1        6     4.0 2000-07-30 18:37:04\n",
       "3       1       47     5.0 2000-07-30 19:03:35\n",
       "4       1       50     5.0 2000-07-30 18:48:51"
      ],
      "text/html": [
       "<div>\n",
       "<style scoped>\n",
       "    .dataframe tbody tr th:only-of-type {\n",
       "        vertical-align: middle;\n",
       "    }\n",
       "\n",
       "    .dataframe tbody tr th {\n",
       "        vertical-align: top;\n",
       "    }\n",
       "\n",
       "    .dataframe thead th {\n",
       "        text-align: right;\n",
       "    }\n",
       "</style>\n",
       "<table border=\"1\" class=\"dataframe\">\n",
       "  <thead>\n",
       "    <tr style=\"text-align: right;\">\n",
       "      <th></th>\n",
       "      <th>userId</th>\n",
       "      <th>movieId</th>\n",
       "      <th>rating</th>\n",
       "      <th>datetime</th>\n",
       "    </tr>\n",
       "  </thead>\n",
       "  <tbody>\n",
       "    <tr>\n",
       "      <th>0</th>\n",
       "      <td>1</td>\n",
       "      <td>1</td>\n",
       "      <td>4.0</td>\n",
       "      <td>2000-07-30 18:45:03</td>\n",
       "    </tr>\n",
       "    <tr>\n",
       "      <th>1</th>\n",
       "      <td>1</td>\n",
       "      <td>3</td>\n",
       "      <td>4.0</td>\n",
       "      <td>2000-07-30 18:20:47</td>\n",
       "    </tr>\n",
       "    <tr>\n",
       "      <th>2</th>\n",
       "      <td>1</td>\n",
       "      <td>6</td>\n",
       "      <td>4.0</td>\n",
       "      <td>2000-07-30 18:37:04</td>\n",
       "    </tr>\n",
       "    <tr>\n",
       "      <th>3</th>\n",
       "      <td>1</td>\n",
       "      <td>47</td>\n",
       "      <td>5.0</td>\n",
       "      <td>2000-07-30 19:03:35</td>\n",
       "    </tr>\n",
       "    <tr>\n",
       "      <th>4</th>\n",
       "      <td>1</td>\n",
       "      <td>50</td>\n",
       "      <td>5.0</td>\n",
       "      <td>2000-07-30 18:48:51</td>\n",
       "    </tr>\n",
       "  </tbody>\n",
       "</table>\n",
       "</div>"
      ]
     },
     "execution_count": 112,
     "metadata": {},
     "output_type": "execute_result"
    }
   ],
   "execution_count": 112
  },
  {
   "metadata": {
    "ExecuteTime": {
     "end_time": "2024-09-22T19:13:54.308410Z",
     "start_time": "2024-09-22T19:13:54.295243Z"
    }
   },
   "cell_type": "code",
   "source": [
    "sorted_df = ratings_encoded_df.sort_values(by='datetime', ascending = False)\n",
    "test_len = int(0.1*len(ratings_encoded_df))\n",
    "test_len"
   ],
   "id": "a96729e7ccf00764",
   "outputs": [
    {
     "data": {
      "text/plain": [
       "10083"
      ]
     },
     "execution_count": 113,
     "metadata": {},
     "output_type": "execute_result"
    }
   ],
   "execution_count": 113
  },
  {
   "metadata": {
    "ExecuteTime": {
     "end_time": "2024-09-22T19:13:54.340382Z",
     "start_time": "2024-09-22T19:13:54.336057Z"
    }
   },
   "cell_type": "code",
   "source": "test_df = sorted_df[:test_len]",
   "id": "69f63b50cf17b050",
   "outputs": [],
   "execution_count": 114
  },
  {
   "metadata": {
    "ExecuteTime": {
     "end_time": "2024-09-22T19:13:54.389372Z",
     "start_time": "2024-09-22T19:13:54.385873Z"
    }
   },
   "cell_type": "code",
   "source": "ratings_encoded_df = sorted_df[test_len:]",
   "id": "5eb217297ab4ce6",
   "outputs": [],
   "execution_count": 115
  },
  {
   "metadata": {
    "ExecuteTime": {
     "end_time": "2024-09-22T19:13:54.482294Z",
     "start_time": "2024-09-22T19:13:54.475765Z"
    }
   },
   "cell_type": "code",
   "source": "ratings_encoded_df.head()",
   "id": "a1010a1973355318",
   "outputs": [
    {
     "data": {
      "text/plain": [
       "       userId  movieId  rating            datetime\n",
       "75237     475     3753     4.5 2017-06-21 07:17:30\n",
       "75225     475     2006     4.5 2017-06-21 07:17:25\n",
       "75283     475    33794     4.5 2017-06-21 07:17:01\n",
       "75302     475    59315     4.0 2017-06-21 07:16:55\n",
       "75346     475   122904     5.0 2017-06-21 07:16:51"
      ],
      "text/html": [
       "<div>\n",
       "<style scoped>\n",
       "    .dataframe tbody tr th:only-of-type {\n",
       "        vertical-align: middle;\n",
       "    }\n",
       "\n",
       "    .dataframe tbody tr th {\n",
       "        vertical-align: top;\n",
       "    }\n",
       "\n",
       "    .dataframe thead th {\n",
       "        text-align: right;\n",
       "    }\n",
       "</style>\n",
       "<table border=\"1\" class=\"dataframe\">\n",
       "  <thead>\n",
       "    <tr style=\"text-align: right;\">\n",
       "      <th></th>\n",
       "      <th>userId</th>\n",
       "      <th>movieId</th>\n",
       "      <th>rating</th>\n",
       "      <th>datetime</th>\n",
       "    </tr>\n",
       "  </thead>\n",
       "  <tbody>\n",
       "    <tr>\n",
       "      <th>75237</th>\n",
       "      <td>475</td>\n",
       "      <td>3753</td>\n",
       "      <td>4.5</td>\n",
       "      <td>2017-06-21 07:17:30</td>\n",
       "    </tr>\n",
       "    <tr>\n",
       "      <th>75225</th>\n",
       "      <td>475</td>\n",
       "      <td>2006</td>\n",
       "      <td>4.5</td>\n",
       "      <td>2017-06-21 07:17:25</td>\n",
       "    </tr>\n",
       "    <tr>\n",
       "      <th>75283</th>\n",
       "      <td>475</td>\n",
       "      <td>33794</td>\n",
       "      <td>4.5</td>\n",
       "      <td>2017-06-21 07:17:01</td>\n",
       "    </tr>\n",
       "    <tr>\n",
       "      <th>75302</th>\n",
       "      <td>475</td>\n",
       "      <td>59315</td>\n",
       "      <td>4.0</td>\n",
       "      <td>2017-06-21 07:16:55</td>\n",
       "    </tr>\n",
       "    <tr>\n",
       "      <th>75346</th>\n",
       "      <td>475</td>\n",
       "      <td>122904</td>\n",
       "      <td>5.0</td>\n",
       "      <td>2017-06-21 07:16:51</td>\n",
       "    </tr>\n",
       "  </tbody>\n",
       "</table>\n",
       "</div>"
      ]
     },
     "execution_count": 116,
     "metadata": {},
     "output_type": "execute_result"
    }
   ],
   "execution_count": 116
  },
  {
   "metadata": {
    "ExecuteTime": {
     "end_time": "2024-09-22T19:13:54.624058Z",
     "start_time": "2024-09-22T19:13:54.617759Z"
    }
   },
   "cell_type": "code",
   "source": "test_df.tail()",
   "id": "43f599aa4194f9c6",
   "outputs": [
    {
     "data": {
      "text/plain": [
       "       userId  movieId  rating            datetime\n",
       "75339     475   115713     4.5 2017-06-21 07:19:01\n",
       "75348     475   122920     3.5 2017-06-21 07:18:15\n",
       "75352     475   152081     4.5 2017-06-21 07:18:07\n",
       "75264     475     6539     4.5 2017-06-21 07:18:04\n",
       "75349     475   122922     4.5 2017-06-21 07:17:49"
      ],
      "text/html": [
       "<div>\n",
       "<style scoped>\n",
       "    .dataframe tbody tr th:only-of-type {\n",
       "        vertical-align: middle;\n",
       "    }\n",
       "\n",
       "    .dataframe tbody tr th {\n",
       "        vertical-align: top;\n",
       "    }\n",
       "\n",
       "    .dataframe thead th {\n",
       "        text-align: right;\n",
       "    }\n",
       "</style>\n",
       "<table border=\"1\" class=\"dataframe\">\n",
       "  <thead>\n",
       "    <tr style=\"text-align: right;\">\n",
       "      <th></th>\n",
       "      <th>userId</th>\n",
       "      <th>movieId</th>\n",
       "      <th>rating</th>\n",
       "      <th>datetime</th>\n",
       "    </tr>\n",
       "  </thead>\n",
       "  <tbody>\n",
       "    <tr>\n",
       "      <th>75339</th>\n",
       "      <td>475</td>\n",
       "      <td>115713</td>\n",
       "      <td>4.5</td>\n",
       "      <td>2017-06-21 07:19:01</td>\n",
       "    </tr>\n",
       "    <tr>\n",
       "      <th>75348</th>\n",
       "      <td>475</td>\n",
       "      <td>122920</td>\n",
       "      <td>3.5</td>\n",
       "      <td>2017-06-21 07:18:15</td>\n",
       "    </tr>\n",
       "    <tr>\n",
       "      <th>75352</th>\n",
       "      <td>475</td>\n",
       "      <td>152081</td>\n",
       "      <td>4.5</td>\n",
       "      <td>2017-06-21 07:18:07</td>\n",
       "    </tr>\n",
       "    <tr>\n",
       "      <th>75264</th>\n",
       "      <td>475</td>\n",
       "      <td>6539</td>\n",
       "      <td>4.5</td>\n",
       "      <td>2017-06-21 07:18:04</td>\n",
       "    </tr>\n",
       "    <tr>\n",
       "      <th>75349</th>\n",
       "      <td>475</td>\n",
       "      <td>122922</td>\n",
       "      <td>4.5</td>\n",
       "      <td>2017-06-21 07:17:49</td>\n",
       "    </tr>\n",
       "  </tbody>\n",
       "</table>\n",
       "</div>"
      ]
     },
     "execution_count": 117,
     "metadata": {},
     "output_type": "execute_result"
    }
   ],
   "execution_count": 117
  },
  {
   "metadata": {
    "ExecuteTime": {
     "end_time": "2024-09-22T19:16:52.488557Z",
     "start_time": "2024-09-22T19:16:52.301581Z"
    }
   },
   "cell_type": "code",
   "source": [
    "ratings_encoded_df.to_csv('rating_encoded.csv', index = False)\n",
    "test_df.to_csv('test_target.csv', index = False)"
   ],
   "id": "45409cdcd01a998c",
   "outputs": [],
   "execution_count": 119
  }
 ],
 "metadata": {
  "kernelspec": {
   "display_name": "Python 3",
   "language": "python",
   "name": "python3"
  },
  "language_info": {
   "codemirror_mode": {
    "name": "ipython",
    "version": 2
   },
   "file_extension": ".py",
   "mimetype": "text/x-python",
   "name": "python",
   "nbconvert_exporter": "python",
   "pygments_lexer": "ipython2",
   "version": "2.7.6"
  }
 },
 "nbformat": 4,
 "nbformat_minor": 5
}
