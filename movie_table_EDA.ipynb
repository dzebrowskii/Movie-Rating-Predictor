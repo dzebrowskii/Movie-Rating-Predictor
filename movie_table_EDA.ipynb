{
 "cells": [
  {
   "cell_type": "code",
   "id": "initial_id",
   "metadata": {
    "collapsed": true,
    "ExecuteTime": {
     "end_time": "2024-09-22T19:43:45.103068Z",
     "start_time": "2024-09-22T19:43:45.099587Z"
    }
   },
   "source": [
    "import pandas as pd\n",
    "import numpy as np\n",
    "import matplotlib.pyplot as plt\n",
    "import seaborn as sns\n",
    "from collections import Counter"
   ],
   "outputs": [],
   "execution_count": 134
  },
  {
   "metadata": {
    "ExecuteTime": {
     "end_time": "2024-09-22T19:43:45.252083Z",
     "start_time": "2024-09-22T19:43:45.239809Z"
    }
   },
   "cell_type": "code",
   "source": "movies_df = pd.read_csv('movies.csv')",
   "id": "8344bf49d3ea000f",
   "outputs": [],
   "execution_count": 135
  },
  {
   "metadata": {},
   "cell_type": "markdown",
   "source": "# Movie table analysis",
   "id": "1ae9baf8e17e9f1c"
  },
  {
   "metadata": {
    "ExecuteTime": {
     "end_time": "2024-09-22T19:43:45.279967Z",
     "start_time": "2024-09-22T19:43:45.272160Z"
    }
   },
   "cell_type": "code",
   "source": "movies_df.head()",
   "id": "ddfe7e455e616c96",
   "outputs": [
    {
     "data": {
      "text/plain": [
       "   movieId                               title  \\\n",
       "0        1                    Toy Story (1995)   \n",
       "1        2                      Jumanji (1995)   \n",
       "2        3             Grumpier Old Men (1995)   \n",
       "3        4            Waiting to Exhale (1995)   \n",
       "4        5  Father of the Bride Part II (1995)   \n",
       "\n",
       "                                        genres  \n",
       "0  Adventure|Animation|Children|Comedy|Fantasy  \n",
       "1                   Adventure|Children|Fantasy  \n",
       "2                               Comedy|Romance  \n",
       "3                         Comedy|Drama|Romance  \n",
       "4                                       Comedy  "
      ],
      "text/html": [
       "<div>\n",
       "<style scoped>\n",
       "    .dataframe tbody tr th:only-of-type {\n",
       "        vertical-align: middle;\n",
       "    }\n",
       "\n",
       "    .dataframe tbody tr th {\n",
       "        vertical-align: top;\n",
       "    }\n",
       "\n",
       "    .dataframe thead th {\n",
       "        text-align: right;\n",
       "    }\n",
       "</style>\n",
       "<table border=\"1\" class=\"dataframe\">\n",
       "  <thead>\n",
       "    <tr style=\"text-align: right;\">\n",
       "      <th></th>\n",
       "      <th>movieId</th>\n",
       "      <th>title</th>\n",
       "      <th>genres</th>\n",
       "    </tr>\n",
       "  </thead>\n",
       "  <tbody>\n",
       "    <tr>\n",
       "      <th>0</th>\n",
       "      <td>1</td>\n",
       "      <td>Toy Story (1995)</td>\n",
       "      <td>Adventure|Animation|Children|Comedy|Fantasy</td>\n",
       "    </tr>\n",
       "    <tr>\n",
       "      <th>1</th>\n",
       "      <td>2</td>\n",
       "      <td>Jumanji (1995)</td>\n",
       "      <td>Adventure|Children|Fantasy</td>\n",
       "    </tr>\n",
       "    <tr>\n",
       "      <th>2</th>\n",
       "      <td>3</td>\n",
       "      <td>Grumpier Old Men (1995)</td>\n",
       "      <td>Comedy|Romance</td>\n",
       "    </tr>\n",
       "    <tr>\n",
       "      <th>3</th>\n",
       "      <td>4</td>\n",
       "      <td>Waiting to Exhale (1995)</td>\n",
       "      <td>Comedy|Drama|Romance</td>\n",
       "    </tr>\n",
       "    <tr>\n",
       "      <th>4</th>\n",
       "      <td>5</td>\n",
       "      <td>Father of the Bride Part II (1995)</td>\n",
       "      <td>Comedy</td>\n",
       "    </tr>\n",
       "  </tbody>\n",
       "</table>\n",
       "</div>"
      ]
     },
     "execution_count": 136,
     "metadata": {},
     "output_type": "execute_result"
    }
   ],
   "execution_count": 136
  },
  {
   "metadata": {
    "ExecuteTime": {
     "end_time": "2024-09-22T19:43:45.337252Z",
     "start_time": "2024-09-22T19:43:45.330616Z"
    }
   },
   "cell_type": "code",
   "source": "movies_df.head().T",
   "id": "7383169a438144e4",
   "outputs": [
    {
     "data": {
      "text/plain": [
       "                                                   0  \\\n",
       "movieId                                            1   \n",
       "title                               Toy Story (1995)   \n",
       "genres   Adventure|Animation|Children|Comedy|Fantasy   \n",
       "\n",
       "                                  1                        2  \\\n",
       "movieId                           2                        3   \n",
       "title                Jumanji (1995)  Grumpier Old Men (1995)   \n",
       "genres   Adventure|Children|Fantasy           Comedy|Romance   \n",
       "\n",
       "                                3                                   4  \n",
       "movieId                         4                                   5  \n",
       "title    Waiting to Exhale (1995)  Father of the Bride Part II (1995)  \n",
       "genres       Comedy|Drama|Romance                              Comedy  "
      ],
      "text/html": [
       "<div>\n",
       "<style scoped>\n",
       "    .dataframe tbody tr th:only-of-type {\n",
       "        vertical-align: middle;\n",
       "    }\n",
       "\n",
       "    .dataframe tbody tr th {\n",
       "        vertical-align: top;\n",
       "    }\n",
       "\n",
       "    .dataframe thead th {\n",
       "        text-align: right;\n",
       "    }\n",
       "</style>\n",
       "<table border=\"1\" class=\"dataframe\">\n",
       "  <thead>\n",
       "    <tr style=\"text-align: right;\">\n",
       "      <th></th>\n",
       "      <th>0</th>\n",
       "      <th>1</th>\n",
       "      <th>2</th>\n",
       "      <th>3</th>\n",
       "      <th>4</th>\n",
       "    </tr>\n",
       "  </thead>\n",
       "  <tbody>\n",
       "    <tr>\n",
       "      <th>movieId</th>\n",
       "      <td>1</td>\n",
       "      <td>2</td>\n",
       "      <td>3</td>\n",
       "      <td>4</td>\n",
       "      <td>5</td>\n",
       "    </tr>\n",
       "    <tr>\n",
       "      <th>title</th>\n",
       "      <td>Toy Story (1995)</td>\n",
       "      <td>Jumanji (1995)</td>\n",
       "      <td>Grumpier Old Men (1995)</td>\n",
       "      <td>Waiting to Exhale (1995)</td>\n",
       "      <td>Father of the Bride Part II (1995)</td>\n",
       "    </tr>\n",
       "    <tr>\n",
       "      <th>genres</th>\n",
       "      <td>Adventure|Animation|Children|Comedy|Fantasy</td>\n",
       "      <td>Adventure|Children|Fantasy</td>\n",
       "      <td>Comedy|Romance</td>\n",
       "      <td>Comedy|Drama|Romance</td>\n",
       "      <td>Comedy</td>\n",
       "    </tr>\n",
       "  </tbody>\n",
       "</table>\n",
       "</div>"
      ]
     },
     "execution_count": 137,
     "metadata": {},
     "output_type": "execute_result"
    }
   ],
   "execution_count": 137
  },
  {
   "metadata": {
    "ExecuteTime": {
     "end_time": "2024-09-22T19:43:45.438660Z",
     "start_time": "2024-09-22T19:43:45.427784Z"
    }
   },
   "cell_type": "code",
   "source": "movies_df[['title', 'genres']] = movies_df[['title', 'genres']].apply(lambda x: x.str.upper())",
   "id": "d180af345e869ff",
   "outputs": [],
   "execution_count": 138
  },
  {
   "metadata": {
    "ExecuteTime": {
     "end_time": "2024-09-22T19:43:45.493209Z",
     "start_time": "2024-09-22T19:43:45.485668Z"
    }
   },
   "cell_type": "code",
   "source": "movies_df.info()",
   "id": "5bf3f937133d1195",
   "outputs": [
    {
     "name": "stdout",
     "output_type": "stream",
     "text": [
      "<class 'pandas.core.frame.DataFrame'>\n",
      "RangeIndex: 9742 entries, 0 to 9741\n",
      "Data columns (total 3 columns):\n",
      " #   Column   Non-Null Count  Dtype \n",
      "---  ------   --------------  ----- \n",
      " 0   movieId  9742 non-null   int64 \n",
      " 1   title    9742 non-null   object\n",
      " 2   genres   9742 non-null   object\n",
      "dtypes: int64(1), object(2)\n",
      "memory usage: 228.5+ KB\n"
     ]
    }
   ],
   "execution_count": 139
  },
  {
   "metadata": {
    "ExecuteTime": {
     "end_time": "2024-09-22T19:43:45.607105Z",
     "start_time": "2024-09-22T19:43:45.602520Z"
    }
   },
   "cell_type": "code",
   "source": "movies_df.shape",
   "id": "26591f5c88f6e876",
   "outputs": [
    {
     "data": {
      "text/plain": [
       "(9742, 3)"
      ]
     },
     "execution_count": 140,
     "metadata": {},
     "output_type": "execute_result"
    }
   ],
   "execution_count": 140
  },
  {
   "metadata": {
    "ExecuteTime": {
     "end_time": "2024-09-22T19:43:45.791313Z",
     "start_time": "2024-09-22T19:43:45.786574Z"
    }
   },
   "cell_type": "code",
   "source": "movies_df.columns",
   "id": "42f32d219a1d5e50",
   "outputs": [
    {
     "data": {
      "text/plain": [
       "Index(['movieId', 'title', 'genres'], dtype='object')"
      ]
     },
     "execution_count": 141,
     "metadata": {},
     "output_type": "execute_result"
    }
   ],
   "execution_count": 141
  },
  {
   "metadata": {
    "ExecuteTime": {
     "end_time": "2024-09-22T19:43:45.836847Z",
     "start_time": "2024-09-22T19:43:45.831926Z"
    }
   },
   "cell_type": "code",
   "source": "movies_df.isnull().sum()",
   "id": "a3a5614c566ddc5f",
   "outputs": [
    {
     "data": {
      "text/plain": [
       "movieId    0\n",
       "title      0\n",
       "genres     0\n",
       "dtype: int64"
      ]
     },
     "execution_count": 142,
     "metadata": {},
     "output_type": "execute_result"
    }
   ],
   "execution_count": 142
  },
  {
   "metadata": {
    "ExecuteTime": {
     "end_time": "2024-09-22T19:43:46.066640Z",
     "start_time": "2024-09-22T19:43:46.056471Z"
    }
   },
   "cell_type": "code",
   "source": "movies_df.nunique()",
   "id": "1490f633e810be3c",
   "outputs": [
    {
     "data": {
      "text/plain": [
       "movieId    9742\n",
       "title      9737\n",
       "genres      951\n",
       "dtype: int64"
      ]
     },
     "execution_count": 143,
     "metadata": {},
     "output_type": "execute_result"
    }
   ],
   "execution_count": 143
  },
  {
   "metadata": {
    "ExecuteTime": {
     "end_time": "2024-09-22T19:43:46.119043Z",
     "start_time": "2024-09-22T19:43:46.110354Z"
    }
   },
   "cell_type": "code",
   "source": "movies_df['genres'].value_counts()",
   "id": "5edd48331f478495",
   "outputs": [
    {
     "data": {
      "text/plain": [
       "genres\n",
       "DRAMA                                        1053\n",
       "COMEDY                                        946\n",
       "COMEDY|DRAMA                                  435\n",
       "COMEDY|ROMANCE                                363\n",
       "DRAMA|ROMANCE                                 349\n",
       "                                             ... \n",
       "CHILDREN|DRAMA|MUSICAL                          1\n",
       "ADVENTURE|DRAMA|HORROR|MYSTERY|THRILLER         1\n",
       "ADVENTURE|CHILDREN|COMEDY|FANTASY|MYSTERY       1\n",
       "ADVENTURE|ANIMATION|CHILDREN|WESTERN            1\n",
       "COMEDY|MYSTERY|ROMANCE|THRILLER                 1\n",
       "Name: count, Length: 951, dtype: int64"
      ]
     },
     "execution_count": 144,
     "metadata": {},
     "output_type": "execute_result"
    }
   ],
   "execution_count": 144
  },
  {
   "metadata": {
    "ExecuteTime": {
     "end_time": "2024-09-22T19:43:46.192933Z",
     "start_time": "2024-09-22T19:43:46.181385Z"
    }
   },
   "cell_type": "code",
   "source": [
    "duplicated_titles = movies_df[movies_df.duplicated('title', keep = False)]\n",
    "duplicated_titles"
   ],
   "id": "efb28ef101bd1b60",
   "outputs": [
    {
     "data": {
      "text/plain": [
       "      movieId                                   title  \\\n",
       "650       838                             EMMA (1996)   \n",
       "2141     2851                         SATURN 3 (1980)   \n",
       "4169     6003  CONFESSIONS OF A DANGEROUS MIND (2002)   \n",
       "5601    26958                             EMMA (1996)   \n",
       "5854    32600                             EROS (2004)   \n",
       "5931    34048                WAR OF THE WORLDS (2005)   \n",
       "6932    64997                WAR OF THE WORLDS (2005)   \n",
       "9106   144606  CONFESSIONS OF A DANGEROUS MIND (2002)   \n",
       "9135   147002                             EROS (2004)   \n",
       "9468   168358                         SATURN 3 (1980)   \n",
       "\n",
       "                                   genres  \n",
       "650                  COMEDY|DRAMA|ROMANCE  \n",
       "2141            ADVENTURE|SCI-FI|THRILLER  \n",
       "4169          COMEDY|CRIME|DRAMA|THRILLER  \n",
       "5601                              ROMANCE  \n",
       "5854                                DRAMA  \n",
       "5931     ACTION|ADVENTURE|SCI-FI|THRILLER  \n",
       "6932                        ACTION|SCI-FI  \n",
       "9106  COMEDY|CRIME|DRAMA|ROMANCE|THRILLER  \n",
       "9135                        DRAMA|ROMANCE  \n",
       "9468                      SCI-FI|THRILLER  "
      ],
      "text/html": [
       "<div>\n",
       "<style scoped>\n",
       "    .dataframe tbody tr th:only-of-type {\n",
       "        vertical-align: middle;\n",
       "    }\n",
       "\n",
       "    .dataframe tbody tr th {\n",
       "        vertical-align: top;\n",
       "    }\n",
       "\n",
       "    .dataframe thead th {\n",
       "        text-align: right;\n",
       "    }\n",
       "</style>\n",
       "<table border=\"1\" class=\"dataframe\">\n",
       "  <thead>\n",
       "    <tr style=\"text-align: right;\">\n",
       "      <th></th>\n",
       "      <th>movieId</th>\n",
       "      <th>title</th>\n",
       "      <th>genres</th>\n",
       "    </tr>\n",
       "  </thead>\n",
       "  <tbody>\n",
       "    <tr>\n",
       "      <th>650</th>\n",
       "      <td>838</td>\n",
       "      <td>EMMA (1996)</td>\n",
       "      <td>COMEDY|DRAMA|ROMANCE</td>\n",
       "    </tr>\n",
       "    <tr>\n",
       "      <th>2141</th>\n",
       "      <td>2851</td>\n",
       "      <td>SATURN 3 (1980)</td>\n",
       "      <td>ADVENTURE|SCI-FI|THRILLER</td>\n",
       "    </tr>\n",
       "    <tr>\n",
       "      <th>4169</th>\n",
       "      <td>6003</td>\n",
       "      <td>CONFESSIONS OF A DANGEROUS MIND (2002)</td>\n",
       "      <td>COMEDY|CRIME|DRAMA|THRILLER</td>\n",
       "    </tr>\n",
       "    <tr>\n",
       "      <th>5601</th>\n",
       "      <td>26958</td>\n",
       "      <td>EMMA (1996)</td>\n",
       "      <td>ROMANCE</td>\n",
       "    </tr>\n",
       "    <tr>\n",
       "      <th>5854</th>\n",
       "      <td>32600</td>\n",
       "      <td>EROS (2004)</td>\n",
       "      <td>DRAMA</td>\n",
       "    </tr>\n",
       "    <tr>\n",
       "      <th>5931</th>\n",
       "      <td>34048</td>\n",
       "      <td>WAR OF THE WORLDS (2005)</td>\n",
       "      <td>ACTION|ADVENTURE|SCI-FI|THRILLER</td>\n",
       "    </tr>\n",
       "    <tr>\n",
       "      <th>6932</th>\n",
       "      <td>64997</td>\n",
       "      <td>WAR OF THE WORLDS (2005)</td>\n",
       "      <td>ACTION|SCI-FI</td>\n",
       "    </tr>\n",
       "    <tr>\n",
       "      <th>9106</th>\n",
       "      <td>144606</td>\n",
       "      <td>CONFESSIONS OF A DANGEROUS MIND (2002)</td>\n",
       "      <td>COMEDY|CRIME|DRAMA|ROMANCE|THRILLER</td>\n",
       "    </tr>\n",
       "    <tr>\n",
       "      <th>9135</th>\n",
       "      <td>147002</td>\n",
       "      <td>EROS (2004)</td>\n",
       "      <td>DRAMA|ROMANCE</td>\n",
       "    </tr>\n",
       "    <tr>\n",
       "      <th>9468</th>\n",
       "      <td>168358</td>\n",
       "      <td>SATURN 3 (1980)</td>\n",
       "      <td>SCI-FI|THRILLER</td>\n",
       "    </tr>\n",
       "  </tbody>\n",
       "</table>\n",
       "</div>"
      ]
     },
     "execution_count": 145,
     "metadata": {},
     "output_type": "execute_result"
    }
   ],
   "execution_count": 145
  },
  {
   "metadata": {
    "ExecuteTime": {
     "end_time": "2024-09-22T19:43:46.238528Z",
     "start_time": "2024-09-22T19:43:46.229655Z"
    }
   },
   "cell_type": "code",
   "source": "duplicated_titles['title'].value_counts()",
   "id": "15de8b539fc5ebe5",
   "outputs": [
    {
     "data": {
      "text/plain": [
       "title\n",
       "EMMA (1996)                               2\n",
       "SATURN 3 (1980)                           2\n",
       "CONFESSIONS OF A DANGEROUS MIND (2002)    2\n",
       "EROS (2004)                               2\n",
       "WAR OF THE WORLDS (2005)                  2\n",
       "Name: count, dtype: int64"
      ]
     },
     "execution_count": 146,
     "metadata": {},
     "output_type": "execute_result"
    }
   ],
   "execution_count": 146
  },
  {
   "metadata": {
    "ExecuteTime": {
     "end_time": "2024-09-22T19:43:46.599235Z",
     "start_time": "2024-09-22T19:43:46.362128Z"
    }
   },
   "cell_type": "code",
   "source": [
    "genres_count = movies_df['genres'].value_counts().head(25)\n",
    "genres_count.plot(kind='bar')\n",
    "plt.xticks(rotation = 80)\n",
    "plt.xlabel('Genre')\n",
    "plt.ylabel('Count')\n",
    "plt.title('Top 20 Most Frequent Genres')"
   ],
   "id": "7c928bffc45f0f5c",
   "outputs": [
    {
     "data": {
      "text/plain": [
       "Text(0.5, 1.0, 'Top 20 Most Frequent Genres')"
      ]
     },
     "execution_count": 147,
     "metadata": {},
     "output_type": "execute_result"
    },
    {
     "data": {
      "text/plain": [
       "<Figure size 640x480 with 1 Axes>"
      ],
      "image/png": "[encoded data removed]"
     },
     "metadata": {},
     "output_type": "display_data"
    }
   ],
   "execution_count": 147
  },
  {
   "metadata": {
    "ExecuteTime": {
     "end_time": "2024-09-22T20:54:09.682164Z",
     "start_time": "2024-09-22T20:54:09.629379Z"
    }
   },
   "cell_type": "code",
   "source": "len(movies_df[movies_df.genres=='(NO GENRES LISTED)'])",
   "id": "8c515bd67a0c777d",
   "outputs": [
    {
     "data": {
      "text/plain": [
       "34"
      ]
     },
     "execution_count": 179,
     "metadata": {},
     "output_type": "execute_result"
    }
   ],
   "execution_count": 179
  },
  {
   "metadata": {
    "ExecuteTime": {
     "end_time": "2024-09-22T19:43:46.624542Z",
     "start_time": "2024-09-22T19:43:46.609446Z"
    }
   },
   "cell_type": "code",
   "source": [
    "genre_counter = Counter()\n",
    "for genre in movies_df.genres:\n",
    "    genres = genre.split('|')\n",
    "    genre_counter.update(genres)\n",
    "\n",
    "genre_count = dict(genre_counter)\n",
    "genre_count"
   ],
   "id": "2f62728f4030b87d",
   "outputs": [
    {
     "data": {
      "text/plain": [
       "{'ADVENTURE': 1263,\n",
       " 'ANIMATION': 611,\n",
       " 'CHILDREN': 664,\n",
       " 'COMEDY': 3756,\n",
       " 'FANTASY': 779,\n",
       " 'ROMANCE': 1596,\n",
       " 'DRAMA': 4361,\n",
       " 'ACTION': 1828,\n",
       " 'CRIME': 1199,\n",
       " 'THRILLER': 1894,\n",
       " 'HORROR': 978,\n",
       " 'MYSTERY': 573,\n",
       " 'SCI-FI': 980,\n",
       " 'WAR': 382,\n",
       " 'MUSICAL': 334,\n",
       " 'DOCUMENTARY': 440,\n",
       " 'IMAX': 158,\n",
       " 'WESTERN': 167,\n",
       " 'FILM-NOIR': 87,\n",
       " '(NO GENRES LISTED)': 34}"
      ]
     },
     "execution_count": 149,
     "metadata": {},
     "output_type": "execute_result"
    }
   ],
   "execution_count": 149
  },
  {
   "metadata": {
    "ExecuteTime": {
     "end_time": "2024-09-22T19:43:46.629754Z",
     "start_time": "2024-09-22T19:43:46.625553Z"
    }
   },
   "cell_type": "code",
   "source": "len(genre_count)",
   "id": "c5b26cb24ddb2e96",
   "outputs": [
    {
     "data": {
      "text/plain": [
       "20"
      ]
     },
     "execution_count": 150,
     "metadata": {},
     "output_type": "execute_result"
    }
   ],
   "execution_count": 150
  },
  {
   "metadata": {
    "ExecuteTime": {
     "end_time": "2024-09-22T19:43:46.794446Z",
     "start_time": "2024-09-22T19:43:46.630763Z"
    }
   },
   "cell_type": "code",
   "source": [
    "plt.bar(genre_count.keys(), genre_count.values())\n",
    "plt.xticks(rotation = 75)\n",
    "plt.xlabel('Genres')\n",
    "plt.ylabel('Count')\n",
    "plt.title('Number of movies in each genre')"
   ],
   "id": "20276493e21443a",
   "outputs": [
    {
     "data": {
      "text/plain": [
       "Text(0.5, 1.0, 'Number of movies in each genre')"
      ]
     },
     "execution_count": 151,
     "metadata": {},
     "output_type": "execute_result"
    },
    {
     "data": {
      "text/plain": [
       "<Figure size 640x480 with 1 Axes>"
      ],
      "image/png": "[encoded data removed]"
     },
     "metadata": {},
     "output_type": "display_data"
    }
   ],
   "execution_count": 151
  },
  {
   "metadata": {
    "ExecuteTime": {
     "end_time": "2024-09-22T19:43:46.857809Z",
     "start_time": "2024-09-22T19:43:46.796481Z"
    }
   },
   "cell_type": "code",
   "source": [
    "encoded_genres = movies_df.genres.str.get_dummies(sep='|')\n",
    "movies_encoded_df = pd.concat([movies_df, encoded_genres], axis = 1)"
   ],
   "id": "eca1428738bd9ad1",
   "outputs": [],
   "execution_count": 152
  },
  {
   "metadata": {
    "ExecuteTime": {
     "end_time": "2024-09-22T19:43:46.873394Z",
     "start_time": "2024-09-22T19:43:46.858823Z"
    }
   },
   "cell_type": "code",
   "source": "movies_encoded_df.head()",
   "id": "6e69b119bbe181e4",
   "outputs": [
    {
     "data": {
      "text/plain": [
       "   movieId                               title  \\\n",
       "0        1                    TOY STORY (1995)   \n",
       "1        2                      JUMANJI (1995)   \n",
       "2        3             GRUMPIER OLD MEN (1995)   \n",
       "3        4            WAITING TO EXHALE (1995)   \n",
       "4        5  FATHER OF THE BRIDE PART II (1995)   \n",
       "\n",
       "                                        genres  (NO GENRES LISTED)  ACTION  \\\n",
       "0  ADVENTURE|ANIMATION|CHILDREN|COMEDY|FANTASY                   0       0   \n",
       "1                   ADVENTURE|CHILDREN|FANTASY                   0       0   \n",
       "2                               COMEDY|ROMANCE                   0       0   \n",
       "3                         COMEDY|DRAMA|ROMANCE                   0       0   \n",
       "4                                       COMEDY                   0       0   \n",
       "\n",
       "   ADVENTURE  ANIMATION  CHILDREN  COMEDY  CRIME  ...  FILM-NOIR  HORROR  \\\n",
       "0          1          1         1       1      0  ...          0       0   \n",
       "1          1          0         1       0      0  ...          0       0   \n",
       "2          0          0         0       1      0  ...          0       0   \n",
       "3          0          0         0       1      0  ...          0       0   \n",
       "4          0          0         0       1      0  ...          0       0   \n",
       "\n",
       "   IMAX  MUSICAL  MYSTERY  ROMANCE  SCI-FI  THRILLER  WAR  WESTERN  \n",
       "0     0        0        0        0       0         0    0        0  \n",
       "1     0        0        0        0       0         0    0        0  \n",
       "2     0        0        0        1       0         0    0        0  \n",
       "3     0        0        0        1       0         0    0        0  \n",
       "4     0        0        0        0       0         0    0        0  \n",
       "\n",
       "[5 rows x 23 columns]"
      ],
      "text/html": [
       "<div>\n",
       "<style scoped>\n",
       "    .dataframe tbody tr th:only-of-type {\n",
       "        vertical-align: middle;\n",
       "    }\n",
       "\n",
       "    .dataframe tbody tr th {\n",
       "        vertical-align: top;\n",
       "    }\n",
       "\n",
       "    .dataframe thead th {\n",
       "        text-align: right;\n",
       "    }\n",
       "</style>\n",
       "<table border=\"1\" class=\"dataframe\">\n",
       "  <thead>\n",
       "    <tr style=\"text-align: right;\">\n",
       "      <th></th>\n",
       "      <th>movieId</th>\n",
       "      <th>title</th>\n",
       "      <th>genres</th>\n",
       "      <th>(NO GENRES LISTED)</th>\n",
       "      <th>ACTION</th>\n",
       "      <th>ADVENTURE</th>\n",
       "      <th>ANIMATION</th>\n",
       "      <th>CHILDREN</th>\n",
       "      <th>COMEDY</th>\n",
       "      <th>CRIME</th>\n",
       "      <th>...</th>\n",
       "      <th>FILM-NOIR</th>\n",
       "      <th>HORROR</th>\n",
       "      <th>IMAX</th>\n",
       "      <th>MUSICAL</th>\n",
       "      <th>MYSTERY</th>\n",
       "      <th>ROMANCE</th>\n",
       "      <th>SCI-FI</th>\n",
       "      <th>THRILLER</th>\n",
       "      <th>WAR</th>\n",
       "      <th>WESTERN</th>\n",
       "    </tr>\n",
       "  </thead>\n",
       "  <tbody>\n",
       "    <tr>\n",
       "      <th>0</th>\n",
       "      <td>1</td>\n",
       "      <td>TOY STORY (1995)</td>\n",
       "      <td>ADVENTURE|ANIMATION|CHILDREN|COMEDY|FANTASY</td>\n",
       "      <td>0</td>\n",
       "      <td>0</td>\n",
       "      <td>1</td>\n",
       "      <td>1</td>\n",
       "      <td>1</td>\n",
       "      <td>1</td>\n",
       "      <td>0</td>\n",
       "      <td>...</td>\n",
       "      <td>0</td>\n",
       "      <td>0</td>\n",
       "      <td>0</td>\n",
       "      <td>0</td>\n",
       "      <td>0</td>\n",
       "      <td>0</td>\n",
       "      <td>0</td>\n",
       "      <td>0</td>\n",
       "      <td>0</td>\n",
       "      <td>0</td>\n",
       "    </tr>\n",
       "    <tr>\n",
       "      <th>1</th>\n",
       "      <td>2</td>\n",
       "      <td>JUMANJI (1995)</td>\n",
       "      <td>ADVENTURE|CHILDREN|FANTASY</td>\n",
       "      <td>0</td>\n",
       "      <td>0</td>\n",
       "      <td>1</td>\n",
       "      <td>0</td>\n",
       "      <td>1</td>\n",
       "      <td>0</td>\n",
       "      <td>0</td>\n",
       "      <td>...</td>\n",
       "      <td>0</td>\n",
       "      <td>0</td>\n",
       "      <td>0</td>\n",
       "      <td>0</td>\n",
       "      <td>0</td>\n",
       "      <td>0</td>\n",
       "      <td>0</td>\n",
       "      <td>0</td>\n",
       "      <td>0</td>\n",
       "      <td>0</td>\n",
       "    </tr>\n",
       "    <tr>\n",
       "      <th>2</th>\n",
       "      <td>3</td>\n",
       "      <td>GRUMPIER OLD MEN (1995)</td>\n",
       "      <td>COMEDY|ROMANCE</td>\n",
       "      <td>0</td>\n",
       "      <td>0</td>\n",
       "      <td>0</td>\n",
       "      <td>0</td>\n",
       "      <td>0</td>\n",
       "      <td>1</td>\n",
       "      <td>0</td>\n",
       "      <td>...</td>\n",
       "      <td>0</td>\n",
       "      <td>0</td>\n",
       "      <td>0</td>\n",
       "      <td>0</td>\n",
       "      <td>0</td>\n",
       "      <td>1</td>\n",
       "      <td>0</td>\n",
       "      <td>0</td>\n",
       "      <td>0</td>\n",
       "      <td>0</td>\n",
       "    </tr>\n",
       "    <tr>\n",
       "      <th>3</th>\n",
       "      <td>4</td>\n",
       "      <td>WAITING TO EXHALE (1995)</td>\n",
       "      <td>COMEDY|DRAMA|ROMANCE</td>\n",
       "      <td>0</td>\n",
       "      <td>0</td>\n",
       "      <td>0</td>\n",
       "      <td>0</td>\n",
       "      <td>0</td>\n",
       "      <td>1</td>\n",
       "      <td>0</td>\n",
       "      <td>...</td>\n",
       "      <td>0</td>\n",
       "      <td>0</td>\n",
       "      <td>0</td>\n",
       "      <td>0</td>\n",
       "      <td>0</td>\n",
       "      <td>1</td>\n",
       "      <td>0</td>\n",
       "      <td>0</td>\n",
       "      <td>0</td>\n",
       "      <td>0</td>\n",
       "    </tr>\n",
       "    <tr>\n",
       "      <th>4</th>\n",
       "      <td>5</td>\n",
       "      <td>FATHER OF THE BRIDE PART II (1995)</td>\n",
       "      <td>COMEDY</td>\n",
       "      <td>0</td>\n",
       "      <td>0</td>\n",
       "      <td>0</td>\n",
       "      <td>0</td>\n",
       "      <td>0</td>\n",
       "      <td>1</td>\n",
       "      <td>0</td>\n",
       "      <td>...</td>\n",
       "      <td>0</td>\n",
       "      <td>0</td>\n",
       "      <td>0</td>\n",
       "      <td>0</td>\n",
       "      <td>0</td>\n",
       "      <td>0</td>\n",
       "      <td>0</td>\n",
       "      <td>0</td>\n",
       "      <td>0</td>\n",
       "      <td>0</td>\n",
       "    </tr>\n",
       "  </tbody>\n",
       "</table>\n",
       "<p>5 rows × 23 columns</p>\n",
       "</div>"
      ]
     },
     "execution_count": 153,
     "metadata": {},
     "output_type": "execute_result"
    }
   ],
   "execution_count": 153
  },
  {
   "metadata": {
    "ExecuteTime": {
     "end_time": "2024-09-22T19:50:05.867447Z",
     "start_time": "2024-09-22T19:50:05.753815Z"
    }
   },
   "cell_type": "code",
   "source": "movies_encoded_df['year'] = movies_df['title'].str.extract(r'\\((\\d{4})\\)').fillna(0).astype(int)",
   "id": "f418be7351fb3372",
   "outputs": [],
   "execution_count": 167
  },
  {
   "metadata": {
    "ExecuteTime": {
     "end_time": "2024-09-22T19:50:10.442458Z",
     "start_time": "2024-09-22T19:50:10.432873Z"
    }
   },
   "cell_type": "code",
   "source": "movies_encoded_df.head()",
   "id": "93f9ee84402a577e",
   "outputs": [
    {
     "data": {
      "text/plain": [
       "   movieId                               title  year  \\\n",
       "0        1                    TOY STORY (1995)  1995   \n",
       "1        2                      JUMANJI (1995)  1995   \n",
       "2        3             GRUMPIER OLD MEN (1995)  1995   \n",
       "3        4            WAITING TO EXHALE (1995)  1995   \n",
       "4        5  FATHER OF THE BRIDE PART II (1995)  1995   \n",
       "\n",
       "                                        genres  (NO GENRES LISTED)  ACTION  \\\n",
       "0  ADVENTURE|ANIMATION|CHILDREN|COMEDY|FANTASY                   0       0   \n",
       "1                   ADVENTURE|CHILDREN|FANTASY                   0       0   \n",
       "2                               COMEDY|ROMANCE                   0       0   \n",
       "3                         COMEDY|DRAMA|ROMANCE                   0       0   \n",
       "4                                       COMEDY                   0       0   \n",
       "\n",
       "   ADVENTURE  ANIMATION  CHILDREN  COMEDY  ...  FILM-NOIR  HORROR  IMAX  \\\n",
       "0          1          1         1       1  ...          0       0     0   \n",
       "1          1          0         1       0  ...          0       0     0   \n",
       "2          0          0         0       1  ...          0       0     0   \n",
       "3          0          0         0       1  ...          0       0     0   \n",
       "4          0          0         0       1  ...          0       0     0   \n",
       "\n",
       "   MUSICAL  MYSTERY  ROMANCE  SCI-FI  THRILLER  WAR  WESTERN  \n",
       "0        0        0        0       0         0    0        0  \n",
       "1        0        0        0       0         0    0        0  \n",
       "2        0        0        1       0         0    0        0  \n",
       "3        0        0        1       0         0    0        0  \n",
       "4        0        0        0       0         0    0        0  \n",
       "\n",
       "[5 rows x 24 columns]"
      ],
      "text/html": [
       "<div>\n",
       "<style scoped>\n",
       "    .dataframe tbody tr th:only-of-type {\n",
       "        vertical-align: middle;\n",
       "    }\n",
       "\n",
       "    .dataframe tbody tr th {\n",
       "        vertical-align: top;\n",
       "    }\n",
       "\n",
       "    .dataframe thead th {\n",
       "        text-align: right;\n",
       "    }\n",
       "</style>\n",
       "<table border=\"1\" class=\"dataframe\">\n",
       "  <thead>\n",
       "    <tr style=\"text-align: right;\">\n",
       "      <th></th>\n",
       "      <th>movieId</th>\n",
       "      <th>title</th>\n",
       "      <th>year</th>\n",
       "      <th>genres</th>\n",
       "      <th>(NO GENRES LISTED)</th>\n",
       "      <th>ACTION</th>\n",
       "      <th>ADVENTURE</th>\n",
       "      <th>ANIMATION</th>\n",
       "      <th>CHILDREN</th>\n",
       "      <th>COMEDY</th>\n",
       "      <th>...</th>\n",
       "      <th>FILM-NOIR</th>\n",
       "      <th>HORROR</th>\n",
       "      <th>IMAX</th>\n",
       "      <th>MUSICAL</th>\n",
       "      <th>MYSTERY</th>\n",
       "      <th>ROMANCE</th>\n",
       "      <th>SCI-FI</th>\n",
       "      <th>THRILLER</th>\n",
       "      <th>WAR</th>\n",
       "      <th>WESTERN</th>\n",
       "    </tr>\n",
       "  </thead>\n",
       "  <tbody>\n",
       "    <tr>\n",
       "      <th>0</th>\n",
       "      <td>1</td>\n",
       "      <td>TOY STORY (1995)</td>\n",
       "      <td>1995</td>\n",
       "      <td>ADVENTURE|ANIMATION|CHILDREN|COMEDY|FANTASY</td>\n",
       "      <td>0</td>\n",
       "      <td>0</td>\n",
       "      <td>1</td>\n",
       "      <td>1</td>\n",
       "      <td>1</td>\n",
       "      <td>1</td>\n",
       "      <td>...</td>\n",
       "      <td>0</td>\n",
       "      <td>0</td>\n",
       "      <td>0</td>\n",
       "      <td>0</td>\n",
       "      <td>0</td>\n",
       "      <td>0</td>\n",
       "      <td>0</td>\n",
       "      <td>0</td>\n",
       "      <td>0</td>\n",
       "      <td>0</td>\n",
       "    </tr>\n",
       "    <tr>\n",
       "      <th>1</th>\n",
       "      <td>2</td>\n",
       "      <td>JUMANJI (1995)</td>\n",
       "      <td>1995</td>\n",
       "      <td>ADVENTURE|CHILDREN|FANTASY</td>\n",
       "      <td>0</td>\n",
       "      <td>0</td>\n",
       "      <td>1</td>\n",
       "      <td>0</td>\n",
       "      <td>1</td>\n",
       "      <td>0</td>\n",
       "      <td>...</td>\n",
       "      <td>0</td>\n",
       "      <td>0</td>\n",
       "      <td>0</td>\n",
       "      <td>0</td>\n",
       "      <td>0</td>\n",
       "      <td>0</td>\n",
       "      <td>0</td>\n",
       "      <td>0</td>\n",
       "      <td>0</td>\n",
       "      <td>0</td>\n",
       "    </tr>\n",
       "    <tr>\n",
       "      <th>2</th>\n",
       "      <td>3</td>\n",
       "      <td>GRUMPIER OLD MEN (1995)</td>\n",
       "      <td>1995</td>\n",
       "      <td>COMEDY|ROMANCE</td>\n",
       "      <td>0</td>\n",
       "      <td>0</td>\n",
       "      <td>0</td>\n",
       "      <td>0</td>\n",
       "      <td>0</td>\n",
       "      <td>1</td>\n",
       "      <td>...</td>\n",
       "      <td>0</td>\n",
       "      <td>0</td>\n",
       "      <td>0</td>\n",
       "      <td>0</td>\n",
       "      <td>0</td>\n",
       "      <td>1</td>\n",
       "      <td>0</td>\n",
       "      <td>0</td>\n",
       "      <td>0</td>\n",
       "      <td>0</td>\n",
       "    </tr>\n",
       "    <tr>\n",
       "      <th>3</th>\n",
       "      <td>4</td>\n",
       "      <td>WAITING TO EXHALE (1995)</td>\n",
       "      <td>1995</td>\n",
       "      <td>COMEDY|DRAMA|ROMANCE</td>\n",
       "      <td>0</td>\n",
       "      <td>0</td>\n",
       "      <td>0</td>\n",
       "      <td>0</td>\n",
       "      <td>0</td>\n",
       "      <td>1</td>\n",
       "      <td>...</td>\n",
       "      <td>0</td>\n",
       "      <td>0</td>\n",
       "      <td>0</td>\n",
       "      <td>0</td>\n",
       "      <td>0</td>\n",
       "      <td>1</td>\n",
       "      <td>0</td>\n",
       "      <td>0</td>\n",
       "      <td>0</td>\n",
       "      <td>0</td>\n",
       "    </tr>\n",
       "    <tr>\n",
       "      <th>4</th>\n",
       "      <td>5</td>\n",
       "      <td>FATHER OF THE BRIDE PART II (1995)</td>\n",
       "      <td>1995</td>\n",
       "      <td>COMEDY</td>\n",
       "      <td>0</td>\n",
       "      <td>0</td>\n",
       "      <td>0</td>\n",
       "      <td>0</td>\n",
       "      <td>0</td>\n",
       "      <td>1</td>\n",
       "      <td>...</td>\n",
       "      <td>0</td>\n",
       "      <td>0</td>\n",
       "      <td>0</td>\n",
       "      <td>0</td>\n",
       "      <td>0</td>\n",
       "      <td>0</td>\n",
       "      <td>0</td>\n",
       "      <td>0</td>\n",
       "      <td>0</td>\n",
       "      <td>0</td>\n",
       "    </tr>\n",
       "  </tbody>\n",
       "</table>\n",
       "<p>5 rows × 24 columns</p>\n",
       "</div>"
      ]
     },
     "execution_count": 168,
     "metadata": {},
     "output_type": "execute_result"
    }
   ],
   "execution_count": 168
  },
  {
   "metadata": {
    "ExecuteTime": {
     "end_time": "2024-09-22T19:50:12.804378Z",
     "start_time": "2024-09-22T19:50:12.799539Z"
    }
   },
   "cell_type": "code",
   "source": "movies_encoded_df.columns",
   "id": "8ebb84fa6bbcacfc",
   "outputs": [
    {
     "data": {
      "text/plain": [
       "Index(['movieId', 'title', 'year', 'genres', '(NO GENRES LISTED)', 'ACTION',\n",
       "       'ADVENTURE', 'ANIMATION', 'CHILDREN', 'COMEDY', 'CRIME', 'DOCUMENTARY',\n",
       "       'DRAMA', 'FANTASY', 'FILM-NOIR', 'HORROR', 'IMAX', 'MUSICAL', 'MYSTERY',\n",
       "       'ROMANCE', 'SCI-FI', 'THRILLER', 'WAR', 'WESTERN'],\n",
       "      dtype='object')"
      ]
     },
     "execution_count": 169,
     "metadata": {},
     "output_type": "execute_result"
    }
   ],
   "execution_count": 169
  },
  {
   "metadata": {
    "ExecuteTime": {
     "end_time": "2024-09-22T19:50:14.594812Z",
     "start_time": "2024-09-22T19:50:14.588704Z"
    }
   },
   "cell_type": "code",
   "source": [
    "movies_encoded_df = movies_encoded_df.reindex(columns=['movieId', 'title', 'year','genres', '(NO GENRES LISTED)', 'ACTION',\n",
    "       'ADVENTURE', 'ANIMATION', 'CHILDREN', 'COMEDY', 'CRIME', 'DOCUMENTARY',\n",
    "       'DRAMA', 'FANTASY', 'FILM-NOIR', 'HORROR', 'IMAX', 'MUSICAL', 'MYSTERY',\n",
    "       'ROMANCE', 'SCI-FI', 'THRILLER', 'WAR', 'WESTERN'])"
   ],
   "id": "e2962210c41b5b31",
   "outputs": [],
   "execution_count": 170
  },
  {
   "metadata": {
    "ExecuteTime": {
     "end_time": "2024-09-22T19:50:16.332617Z",
     "start_time": "2024-09-22T19:50:16.323220Z"
    }
   },
   "cell_type": "code",
   "source": "movies_encoded_df.head()",
   "id": "828f542c48cdc5d6",
   "outputs": [
    {
     "data": {
      "text/plain": [
       "   movieId                               title  year  \\\n",
       "0        1                    TOY STORY (1995)  1995   \n",
       "1        2                      JUMANJI (1995)  1995   \n",
       "2        3             GRUMPIER OLD MEN (1995)  1995   \n",
       "3        4            WAITING TO EXHALE (1995)  1995   \n",
       "4        5  FATHER OF THE BRIDE PART II (1995)  1995   \n",
       "\n",
       "                                        genres  (NO GENRES LISTED)  ACTION  \\\n",
       "0  ADVENTURE|ANIMATION|CHILDREN|COMEDY|FANTASY                   0       0   \n",
       "1                   ADVENTURE|CHILDREN|FANTASY                   0       0   \n",
       "2                               COMEDY|ROMANCE                   0       0   \n",
       "3                         COMEDY|DRAMA|ROMANCE                   0       0   \n",
       "4                                       COMEDY                   0       0   \n",
       "\n",
       "   ADVENTURE  ANIMATION  CHILDREN  COMEDY  ...  FILM-NOIR  HORROR  IMAX  \\\n",
       "0          1          1         1       1  ...          0       0     0   \n",
       "1          1          0         1       0  ...          0       0     0   \n",
       "2          0          0         0       1  ...          0       0     0   \n",
       "3          0          0         0       1  ...          0       0     0   \n",
       "4          0          0         0       1  ...          0       0     0   \n",
       "\n",
       "   MUSICAL  MYSTERY  ROMANCE  SCI-FI  THRILLER  WAR  WESTERN  \n",
       "0        0        0        0       0         0    0        0  \n",
       "1        0        0        0       0         0    0        0  \n",
       "2        0        0        1       0         0    0        0  \n",
       "3        0        0        1       0         0    0        0  \n",
       "4        0        0        0       0         0    0        0  \n",
       "\n",
       "[5 rows x 24 columns]"
      ],
      "text/html": [
       "<div>\n",
       "<style scoped>\n",
       "    .dataframe tbody tr th:only-of-type {\n",
       "        vertical-align: middle;\n",
       "    }\n",
       "\n",
       "    .dataframe tbody tr th {\n",
       "        vertical-align: top;\n",
       "    }\n",
       "\n",
       "    .dataframe thead th {\n",
       "        text-align: right;\n",
       "    }\n",
       "</style>\n",
       "<table border=\"1\" class=\"dataframe\">\n",
       "  <thead>\n",
       "    <tr style=\"text-align: right;\">\n",
       "      <th></th>\n",
       "      <th>movieId</th>\n",
       "      <th>title</th>\n",
       "      <th>year</th>\n",
       "      <th>genres</th>\n",
       "      <th>(NO GENRES LISTED)</th>\n",
       "      <th>ACTION</th>\n",
       "      <th>ADVENTURE</th>\n",
       "      <th>ANIMATION</th>\n",
       "      <th>CHILDREN</th>\n",
       "      <th>COMEDY</th>\n",
       "      <th>...</th>\n",
       "      <th>FILM-NOIR</th>\n",
       "      <th>HORROR</th>\n",
       "      <th>IMAX</th>\n",
       "      <th>MUSICAL</th>\n",
       "      <th>MYSTERY</th>\n",
       "      <th>ROMANCE</th>\n",
       "      <th>SCI-FI</th>\n",
       "      <th>THRILLER</th>\n",
       "      <th>WAR</th>\n",
       "      <th>WESTERN</th>\n",
       "    </tr>\n",
       "  </thead>\n",
       "  <tbody>\n",
       "    <tr>\n",
       "      <th>0</th>\n",
       "      <td>1</td>\n",
       "      <td>TOY STORY (1995)</td>\n",
       "      <td>1995</td>\n",
       "      <td>ADVENTURE|ANIMATION|CHILDREN|COMEDY|FANTASY</td>\n",
       "      <td>0</td>\n",
       "      <td>0</td>\n",
       "      <td>1</td>\n",
       "      <td>1</td>\n",
       "      <td>1</td>\n",
       "      <td>1</td>\n",
       "      <td>...</td>\n",
       "      <td>0</td>\n",
       "      <td>0</td>\n",
       "      <td>0</td>\n",
       "      <td>0</td>\n",
       "      <td>0</td>\n",
       "      <td>0</td>\n",
       "      <td>0</td>\n",
       "      <td>0</td>\n",
       "      <td>0</td>\n",
       "      <td>0</td>\n",
       "    </tr>\n",
       "    <tr>\n",
       "      <th>1</th>\n",
       "      <td>2</td>\n",
       "      <td>JUMANJI (1995)</td>\n",
       "      <td>1995</td>\n",
       "      <td>ADVENTURE|CHILDREN|FANTASY</td>\n",
       "      <td>0</td>\n",
       "      <td>0</td>\n",
       "      <td>1</td>\n",
       "      <td>0</td>\n",
       "      <td>1</td>\n",
       "      <td>0</td>\n",
       "      <td>...</td>\n",
       "      <td>0</td>\n",
       "      <td>0</td>\n",
       "      <td>0</td>\n",
       "      <td>0</td>\n",
       "      <td>0</td>\n",
       "      <td>0</td>\n",
       "      <td>0</td>\n",
       "      <td>0</td>\n",
       "      <td>0</td>\n",
       "      <td>0</td>\n",
       "    </tr>\n",
       "    <tr>\n",
       "      <th>2</th>\n",
       "      <td>3</td>\n",
       "      <td>GRUMPIER OLD MEN (1995)</td>\n",
       "      <td>1995</td>\n",
       "      <td>COMEDY|ROMANCE</td>\n",
       "      <td>0</td>\n",
       "      <td>0</td>\n",
       "      <td>0</td>\n",
       "      <td>0</td>\n",
       "      <td>0</td>\n",
       "      <td>1</td>\n",
       "      <td>...</td>\n",
       "      <td>0</td>\n",
       "      <td>0</td>\n",
       "      <td>0</td>\n",
       "      <td>0</td>\n",
       "      <td>0</td>\n",
       "      <td>1</td>\n",
       "      <td>0</td>\n",
       "      <td>0</td>\n",
       "      <td>0</td>\n",
       "      <td>0</td>\n",
       "    </tr>\n",
       "    <tr>\n",
       "      <th>3</th>\n",
       "      <td>4</td>\n",
       "      <td>WAITING TO EXHALE (1995)</td>\n",
       "      <td>1995</td>\n",
       "      <td>COMEDY|DRAMA|ROMANCE</td>\n",
       "      <td>0</td>\n",
       "      <td>0</td>\n",
       "      <td>0</td>\n",
       "      <td>0</td>\n",
       "      <td>0</td>\n",
       "      <td>1</td>\n",
       "      <td>...</td>\n",
       "      <td>0</td>\n",
       "      <td>0</td>\n",
       "      <td>0</td>\n",
       "      <td>0</td>\n",
       "      <td>0</td>\n",
       "      <td>1</td>\n",
       "      <td>0</td>\n",
       "      <td>0</td>\n",
       "      <td>0</td>\n",
       "      <td>0</td>\n",
       "    </tr>\n",
       "    <tr>\n",
       "      <th>4</th>\n",
       "      <td>5</td>\n",
       "      <td>FATHER OF THE BRIDE PART II (1995)</td>\n",
       "      <td>1995</td>\n",
       "      <td>COMEDY</td>\n",
       "      <td>0</td>\n",
       "      <td>0</td>\n",
       "      <td>0</td>\n",
       "      <td>0</td>\n",
       "      <td>0</td>\n",
       "      <td>1</td>\n",
       "      <td>...</td>\n",
       "      <td>0</td>\n",
       "      <td>0</td>\n",
       "      <td>0</td>\n",
       "      <td>0</td>\n",
       "      <td>0</td>\n",
       "      <td>0</td>\n",
       "      <td>0</td>\n",
       "      <td>0</td>\n",
       "      <td>0</td>\n",
       "      <td>0</td>\n",
       "    </tr>\n",
       "  </tbody>\n",
       "</table>\n",
       "<p>5 rows × 24 columns</p>\n",
       "</div>"
      ]
     },
     "execution_count": 171,
     "metadata": {},
     "output_type": "execute_result"
    }
   ],
   "execution_count": 171
  },
  {
   "metadata": {
    "ExecuteTime": {
     "end_time": "2024-09-22T19:50:18.586084Z",
     "start_time": "2024-09-22T19:50:18.580018Z"
    }
   },
   "cell_type": "code",
   "source": "movies_encoded_df.isnull().sum()",
   "id": "dfb60f088f1836ca",
   "outputs": [
    {
     "data": {
      "text/plain": [
       "movieId               0\n",
       "title                 0\n",
       "year                  0\n",
       "genres                0\n",
       "(NO GENRES LISTED)    0\n",
       "ACTION                0\n",
       "ADVENTURE             0\n",
       "ANIMATION             0\n",
       "CHILDREN              0\n",
       "COMEDY                0\n",
       "CRIME                 0\n",
       "DOCUMENTARY           0\n",
       "DRAMA                 0\n",
       "FANTASY               0\n",
       "FILM-NOIR             0\n",
       "HORROR                0\n",
       "IMAX                  0\n",
       "MUSICAL               0\n",
       "MYSTERY               0\n",
       "ROMANCE               0\n",
       "SCI-FI                0\n",
       "THRILLER              0\n",
       "WAR                   0\n",
       "WESTERN               0\n",
       "dtype: int64"
      ]
     },
     "execution_count": 172,
     "metadata": {},
     "output_type": "execute_result"
    }
   ],
   "execution_count": 172
  },
  {
   "metadata": {
    "ExecuteTime": {
     "end_time": "2024-09-22T19:51:18.030769Z",
     "start_time": "2024-09-22T19:51:18.020267Z"
    }
   },
   "cell_type": "code",
   "source": "movies_encoded_df[movies_encoded_df['year'] == 0] = movies_encoded_df['year'].median()",
   "id": "41cabf257cd5b388",
   "outputs": [],
   "execution_count": 174
  },
  {
   "metadata": {
    "ExecuteTime": {
     "end_time": "2024-09-22T19:51:57.118635Z",
     "start_time": "2024-09-22T19:51:57.058971Z"
    }
   },
   "cell_type": "code",
   "source": "movies_encoded_df.to_csv('movies_encoded.csv', index = False)",
   "id": "6e805daae5498fe0",
   "outputs": [],
   "execution_count": 177
  }
 ],
 "metadata": {
  "kernelspec": {
   "display_name": "Python 3",
   "language": "python",
   "name": "python3"
  },
  "language_info": {
   "codemirror_mode": {
    "name": "ipython",
    "version": 2
   },
   "file_extension": ".py",
   "mimetype": "text/x-python",
   "name": "python",
   "nbconvert_exporter": "python",
   "pygments_lexer": "ipython2",
   "version": "2.7.6"
  }
 },
 "nbformat": 4,
 "nbformat_minor": 5
}
